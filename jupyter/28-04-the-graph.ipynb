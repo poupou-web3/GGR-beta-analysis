{
 "cells": [
  {
   "cell_type": "code",
   "execution_count": 6,
   "metadata": {},
   "outputs": [],
   "source": [
    "import sys\n",
    "import pandas as pd\n",
    "import numpy as np\n",
    "import seaborn as sns\n",
    "from pathlib import Path\n",
    "import os"
   ]
  },
  {
   "cell_type": "code",
   "execution_count": 38,
   "metadata": {},
   "outputs": [
    {
     "data": {
      "text/plain": [
       "'c:\\\\Users\\\\DELL Admin\\\\Documents\\\\ODC\\\\RegenRangers\\\\data'"
      ]
     },
     "execution_count": 38,
     "metadata": {},
     "output_type": "execute_result"
    }
   ],
   "source": [
    "current_dir = Path(os.getcwd())\n",
    "path_to_data = os.path.join(current_dir.parent.parent, 'data')\n",
    "path_to_data"
   ]
  },
  {
   "cell_type": "code",
   "execution_count": 48,
   "metadata": {},
   "outputs": [],
   "source": [
    "df_grants = pd.read_csv(os.path.join(path_to_data, 'Beta-applicants-projects.csv'))"
   ]
  },
  {
   "cell_type": "code",
   "execution_count": 59,
   "metadata": {},
   "outputs": [
    {
     "data": {
      "text/plain": [
       "(538, 53)"
      ]
     },
     "execution_count": 59,
     "metadata": {},
     "output_type": "execute_result"
    }
   ],
   "source": [
    "df_grants.shape"
   ]
  },
  {
   "cell_type": "code",
   "execution_count": 45,
   "metadata": {},
   "outputs": [],
   "source": [
    "df_all_allo = pd.read_csv(os.path.join(path_to_data, 'all-allo.csv'))"
   ]
  },
  {
   "cell_type": "code",
   "execution_count": 1,
   "metadata": {},
   "outputs": [],
   "source": [
    "import requests"
   ]
  },
  {
   "cell_type": "code",
   "execution_count": 2,
   "metadata": {},
   "outputs": [],
   "source": [
    "def get_round_applications(round_address):\n",
    "\n",
    "  applications_query = \"\"\"{\n",
    "    applications(first: 1000, where: {roundAddress: \"%s\"}) {\n",
    "      id\n",
    "      projectId\n",
    "      roundAddress\n",
    "      metaPtrProtocol\n",
    "      metaPtrPointer\n",
    "      blockNumber\n",
    "    }\n",
    "  }\n",
    "  \"\"\" % ( round_address )\n",
    "\n",
    "  response = requests.post(GRAPH_GITCOIN_GRANTS_URL, json={'query': applications_query})\n",
    "\n",
    "  if response.ok:\n",
    "\n",
    "    #since the project can be updated multiple times, retrieve information from latest update\n",
    "    df_applications = pd.DataFrame(response.json()['data']['applications'])\n",
    "    idx = df_applications.groupby(['projectId'])['blockNumber'].transform(max) == df_applications['blockNumber']\n",
    "    return df_applications[idx].to_dict(orient=\"records\")\n",
    "\n",
    "  else:\n",
    "    logger.info(response.text)\n",
    "    return None"
   ]
  },
  {
   "cell_type": "code",
   "execution_count": 4,
   "metadata": {},
   "outputs": [],
   "source": [
    "GRAPh_API_KEY = '1ab39013c91aa36abf185d3d739bcbf1'\n",
    "GRAPH_GITCOIN_GRANTS_URL = f'https://gateway.thegraph.com/api/{GRAPh_API_KEY}/subgraphs/id/BQXTJRLZi7NWGq5AXzQQxvYNa5i1HmqALEJwy3gGJHCr'"
   ]
  },
  {
   "cell_type": "code",
   "execution_count": 9,
   "metadata": {},
   "outputs": [],
   "source": [
    "round_address = '0xdf75054cd67217aee44b4f9e4ebc651c00330938'\n",
    "applications_query = \"\"\"{\n",
    "    applications(first: 1000, where: {roundAddress: \"%s\"}) {\n",
    "      id\n",
    "      projectId\n",
    "      roundAddress\n",
    "      metaPtrProtocol\n",
    "      metaPtrPointer\n",
    "      blockNumber\n",
    "    }\n",
    "  }\n",
    "  \"\"\" % ( round_address )\n",
    "\n",
    "response = requests.post(GRAPH_GITCOIN_GRANTS_URL, json={'query': applications_query})"
   ]
  },
  {
   "cell_type": "code",
   "execution_count": null,
   "metadata": {},
   "outputs": [],
   "source": [
    "{\n",
    "  round (id : \"\"){\n",
    "    id\n",
    "    roles{\n",
    "      id\n",
    "      role\n",
    "    }\n",
    "    accounts{\n",
    "      id\n",
    "      address\n",
    "    }\n",
    "    projects{\n",
    "      id\n",
    "      project\n",
    "      status\n",
    "      payoutAddress\n",
    "      createdAt\n",
    "      updatedAt\n",
    "      \n",
    "    }\n",
    "    \n",
    "  }\n",
    "}"
   ]
  },
  {
   "cell_type": "code",
   "execution_count": 18,
   "metadata": {},
   "outputs": [],
   "source": [
    "query = \"\"\"{\n",
    "  metaPtrs(first: 5) {\n",
    "    id\n",
    "    protocol\n",
    "    pointer\n",
    "  }\n",
    "  projects(first: 5) {\n",
    "    id\n",
    "    accounts {\n",
    "      id\n",
    "    }\n",
    "    metaPtr {\n",
    "      id\n",
    "    }\n",
    "    createdAt\n",
    "  }\n",
    "}\"\"\""
   ]
  },
  {
   "cell_type": "code",
   "execution_count": 19,
   "metadata": {},
   "outputs": [],
   "source": [
    "GRAPH_GITCOIN_GRANTS_URL = f'https://gateway.thegraph.com/api/{GRAPh_API_KEY}/subgraphs/id/94TgNF87pKDcuhFkELKQa6o3CcetJvyt3XwkhtsvhrHx'\n",
    "response = requests.post(GRAPH_GITCOIN_GRANTS_URL, json={'query': query})"
   ]
  },
  {
   "cell_type": "code",
   "execution_count": 20,
   "metadata": {},
   "outputs": [
    {
     "data": {
      "text/plain": [
       "{'data': {'metaPtrs': [{'id': '0x0',\n",
       "    'protocol': '1',\n",
       "    'pointer': 'bafkreicj2mfcotvh4tcg2yxivox3udf3nn2ac73jx4untgdgqpvnnaz2ui'},\n",
       "   {'id': '0x1',\n",
       "    'protocol': '1',\n",
       "    'pointer': 'bafkreici2x2ttp2ln2x2gagkooq3i4q3npvdbl3d6aevigko3voctnnqvy'},\n",
       "   {'id': '0x10',\n",
       "    'protocol': '1',\n",
       "    'pointer': 'bafkreia4d6sapli2kcqkpelwcfo6d3ivae7n3pmmi7araj3qiufhtckupe'},\n",
       "   {'id': '0x100',\n",
       "    'protocol': '1',\n",
       "    'pointer': 'bafkreigsioamvf2nu3idem4ywiv6f22ldq2gweuefbii6wxdtd2xiz5fpi'},\n",
       "   {'id': '0x101',\n",
       "    'protocol': '1',\n",
       "    'pointer': 'bafkreicrykylsuc2l57474vz5as7rqzidjjscyxiwpuqjoymx3c6wewnym'}],\n",
       "  'projects': [{'id': '0x0',\n",
       "    'accounts': [{'id': '4Adt5Fgz63ELo6jG9wzASoBNkwtcDU3Y5DwWkXngzDKc'}],\n",
       "    'metaPtr': {'id': '0x0'},\n",
       "    'createdAt': '1669737707'},\n",
       "   {'id': '0x1',\n",
       "    'accounts': [{'id': 'AVHL6JHMXVKdCgsJTFSJEJ9RQdpXo24bFteFdHURwp5r'}],\n",
       "    'metaPtr': {'id': '0x1'},\n",
       "    'createdAt': '1669917899'},\n",
       "   {'id': '0x10',\n",
       "    'accounts': [{'id': '7947asHEUx6bmRpKE15SKGGEJJ4EDmFteczWnd2GSgQv'}],\n",
       "    'metaPtr': {'id': '0x10'},\n",
       "    'createdAt': '1670519303'},\n",
       "   {'id': '0x100',\n",
       "    'accounts': [{'id': 'ELoSrTMbjzHAzv55PzcwdawP6vv3j4ddcSR4vMgCzYwo'}],\n",
       "    'metaPtr': {'id': '0x100'},\n",
       "    'createdAt': '1674640967'},\n",
       "   {'id': '0x101',\n",
       "    'accounts': [{'id': 'EJqKukSoXkVDUnKoWujtVvo6HJevzWTvpvhxm2HK8fMe'}],\n",
       "    'metaPtr': {'id': '0x101'},\n",
       "    'createdAt': '1674721307'}]}}"
      ]
     },
     "execution_count": 20,
     "metadata": {},
     "output_type": "execute_result"
    }
   ],
   "source": [
    "response.json()"
   ]
  },
  {
   "cell_type": "code",
   "execution_count": 12,
   "metadata": {},
   "outputs": [
    {
     "data": {
      "text/plain": [
       "{'errors': [{'locations': [{'line': 2, 'column': 3}],\n",
       "   'message': 'Type `Query` has no field `applications`'}]}"
      ]
     },
     "execution_count": 12,
     "metadata": {},
     "output_type": "execute_result"
    }
   ],
   "source": [
    "response.json()"
   ]
  },
  {
   "cell_type": "code",
   "execution_count": 7,
   "metadata": {},
   "outputs": [
    {
     "ename": "KeyError",
     "evalue": "'data'",
     "output_type": "error",
     "traceback": [
      "\u001b[1;31m---------------------------------------------------------------------------\u001b[0m",
      "\u001b[1;31mKeyError\u001b[0m                                  Traceback (most recent call last)",
      "Cell \u001b[1;32mIn[7], line 1\u001b[0m\n\u001b[1;32m----> 1\u001b[0m get_round_applications(\u001b[39m'\u001b[39;49m\u001b[39m0xdf75054cd67217aee44b4f9e4ebc651c00330938\u001b[39;49m\u001b[39m'\u001b[39;49m)\n",
      "Cell \u001b[1;32mIn[2], line 20\u001b[0m, in \u001b[0;36mget_round_applications\u001b[1;34m(round_address)\u001b[0m\n\u001b[0;32m     15\u001b[0m response \u001b[39m=\u001b[39m requests\u001b[39m.\u001b[39mpost(GRAPH_GITCOIN_GRANTS_URL, json\u001b[39m=\u001b[39m{\u001b[39m'\u001b[39m\u001b[39mquery\u001b[39m\u001b[39m'\u001b[39m: applications_query})\n\u001b[0;32m     17\u001b[0m \u001b[39mif\u001b[39;00m response\u001b[39m.\u001b[39mok:\n\u001b[0;32m     18\u001b[0m \n\u001b[0;32m     19\u001b[0m   \u001b[39m#since the project can be updated multiple times, retrieve information from latest update\u001b[39;00m\n\u001b[1;32m---> 20\u001b[0m   df_applications \u001b[39m=\u001b[39m pd\u001b[39m.\u001b[39mDataFrame(response\u001b[39m.\u001b[39;49mjson()[\u001b[39m'\u001b[39;49m\u001b[39mdata\u001b[39;49m\u001b[39m'\u001b[39;49m][\u001b[39m'\u001b[39m\u001b[39mapplications\u001b[39m\u001b[39m'\u001b[39m])\n\u001b[0;32m     21\u001b[0m   idx \u001b[39m=\u001b[39m df_applications\u001b[39m.\u001b[39mgroupby([\u001b[39m'\u001b[39m\u001b[39mprojectId\u001b[39m\u001b[39m'\u001b[39m])[\u001b[39m'\u001b[39m\u001b[39mblockNumber\u001b[39m\u001b[39m'\u001b[39m]\u001b[39m.\u001b[39mtransform(\u001b[39mmax\u001b[39m) \u001b[39m==\u001b[39m df_applications[\u001b[39m'\u001b[39m\u001b[39mblockNumber\u001b[39m\u001b[39m'\u001b[39m]\n\u001b[0;32m     22\u001b[0m   \u001b[39mreturn\u001b[39;00m df_applications[idx]\u001b[39m.\u001b[39mto_dict(orient\u001b[39m=\u001b[39m\u001b[39m\"\u001b[39m\u001b[39mrecords\u001b[39m\u001b[39m\"\u001b[39m)\n",
      "\u001b[1;31mKeyError\u001b[0m: 'data'"
     ]
    }
   ],
   "source": [
    "get_round_applications('0xdf75054cd67217aee44b4f9e4ebc651c00330938')"
   ]
  }
 ],
 "metadata": {
  "kernelspec": {
   "display_name": ".venv",
   "language": "python",
   "name": "python3"
  },
  "language_info": {
   "codemirror_mode": {
    "name": "ipython",
    "version": 3
   },
   "file_extension": ".py",
   "mimetype": "text/x-python",
   "name": "python",
   "nbconvert_exporter": "python",
   "pygments_lexer": "ipython3",
   "version": "3.10.9"
  },
  "orig_nbformat": 4
 },
 "nbformat": 4,
 "nbformat_minor": 2
}
