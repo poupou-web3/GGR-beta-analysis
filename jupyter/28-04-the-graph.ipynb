{
 "cells": [
  {
   "cell_type": "code",
   "execution_count": 1,
   "metadata": {},
   "outputs": [],
   "source": [
    "import sys\n",
    "import pandas as pd\n",
    "import numpy as np\n",
    "import seaborn as sns\n",
    "from pathlib import Path\n",
    "import os"
   ]
  },
  {
   "cell_type": "code",
   "execution_count": 2,
   "metadata": {},
   "outputs": [
    {
     "data": {
      "text/plain": [
       "'c:\\\\Users\\\\DELL Admin\\\\Documents\\\\ODC\\\\RegenRangers\\\\data'"
      ]
     },
     "execution_count": 2,
     "metadata": {},
     "output_type": "execute_result"
    }
   ],
   "source": [
    "current_dir = Path(os.getcwd())\n",
    "path_to_data = os.path.join(current_dir.parent.parent, 'data')\n",
    "path_to_data"
   ]
  },
  {
   "cell_type": "code",
   "execution_count": 3,
   "metadata": {},
   "outputs": [],
   "source": [
    "df_grants = pd.read_csv(os.path.join(path_to_data, 'Beta-applicants-projects.csv'))"
   ]
  },
  {
   "cell_type": "code",
   "execution_count": 6,
   "metadata": {},
   "outputs": [],
   "source": [
    "import requests"
   ]
  },
  {
   "cell_type": "code",
   "execution_count": 24,
   "metadata": {},
   "outputs": [],
   "source": [
    "# example function kikura\n",
    "def get_round_applications(round_address):\n",
    "\n",
    "  applications_query = \"\"\"\n",
    "  query {\n",
    "  voteds(first: 5) {\n",
    "    id\n",
    "    token\n",
    "    amount\n",
    "    voter\n",
    "    applicationIndex\n",
    "    blockNumber\n",
    "    blockTimestamp\n",
    "    grantAddress\n",
    "    projectId\n",
    "    roundAddress\n",
    "    transactionHash\n",
    "  }\n",
    "}\n",
    "  \"\"\"\n",
    "\n",
    "  response = requests.post(GRAPH_GITCOIN_GRANTS_URL, json={'query': applications_query})\n",
    "\n",
    "  if response.ok:\n",
    "\n",
    "    #since the project can be updated multiple times, retrieve information from latest update\n",
    "    df_applications = pd.DataFrame(response.json()['data']['applications'])\n",
    "    idx = df_applications.groupby(['projectId'])['blockNumber'].transform(max) == df_applications['blockNumber']\n",
    "    return df_applications[idx].to_dict(orient=\"records\")\n",
    "\n",
    "  else:\n",
    "    logger.info(response.text)\n",
    "    return None"
   ]
  },
  {
   "cell_type": "code",
   "execution_count": 25,
   "metadata": {},
   "outputs": [],
   "source": [
    "query = \"\"\"\n",
    "query {\n",
    "voteds(first: 5) {\n",
    "    id\n",
    "    token\n",
    "    amount\n",
    "    voter\n",
    "    applicationIndex\n",
    "    blockNumber\n",
    "    blockTimestamp\n",
    "    grantAddress\n",
    "    projectId\n",
    "    roundAddress\n",
    "    transactionHash\n",
    "  }\n",
    "}\n",
    "\"\"\""
   ]
  },
  {
   "cell_type": "code",
   "execution_count": 21,
   "metadata": {},
   "outputs": [],
   "source": [
    "# Test query url\n",
    "GRAPh_API_KEY = '1ab39013c91aa36abf185d3d739bcbf1'\n",
    "GRAPH_GITCOIN_GRANTS_URL = f'https://api.studio.thegraph.com/query/38576/allo-grants-beta-subgraph/v0.1.0'\n",
    "response = requests.post(GRAPH_GITCOIN_GRANTS_URL, json={'query': query})"
   ]
  },
  {
   "cell_type": "code",
   "execution_count": 22,
   "metadata": {},
   "outputs": [
    {
     "data": {
      "text/plain": [
       "{'data': {'voteds': [{'id': '0x0004416d668acc01d1e63d3a2075157b72d9f697c60f6cd4020f118f9e69bb48cd000000',\n",
       "    'token': '0x6b175474e89094c44da98b954eedeac495271d0f',\n",
       "    'amount': '1000000000000000000',\n",
       "    'voter': '0x4109266acac7bc28c754884920b059e016ddaf41',\n",
       "    'applicationIndex': '23',\n",
       "    'blockNumber': '17157397',\n",
       "    'blockTimestamp': '1682839931',\n",
       "    'grantAddress': '0x08a3c2a819e3de7aca384c798269b3ce1cd0e437',\n",
       "    'projectId': '0x46ddc886ac23d5bc2cbc96cd2aa990627bcd98c881a953070f94c15e03267707',\n",
       "    'roundAddress': '0x12bb5bbbfe596dbc489d209299b8302c3300fa40',\n",
       "    'transactionHash': '0x0004416d668acc01d1e63d3a2075157b72d9f697c60f6cd4020f118f9e69bb48'},\n",
       "   {'id': '0x0004416d668acc01d1e63d3a2075157b72d9f697c60f6cd4020f118f9e69bb48cf000000',\n",
       "    'token': '0x6b175474e89094c44da98b954eedeac495271d0f',\n",
       "    'amount': '1000000000000000000',\n",
       "    'voter': '0x4109266acac7bc28c754884920b059e016ddaf41',\n",
       "    'applicationIndex': '9',\n",
       "    'blockNumber': '17157397',\n",
       "    'blockTimestamp': '1682839931',\n",
       "    'grantAddress': '0x3a5bd1e37b099ae3386d13947b6a90d97675e5e3',\n",
       "    'projectId': '0xbe519f8c8f7ff2acb359dd757c5d2bf25b05d9fd29b8684885aa27f1fa487fcf',\n",
       "    'roundAddress': '0x12bb5bbbfe596dbc489d209299b8302c3300fa40',\n",
       "    'transactionHash': '0x0004416d668acc01d1e63d3a2075157b72d9f697c60f6cd4020f118f9e69bb48'},\n",
       "   {'id': '0x0004416d668acc01d1e63d3a2075157b72d9f697c60f6cd4020f118f9e69bb48d1000000',\n",
       "    'token': '0x6b175474e89094c44da98b954eedeac495271d0f',\n",
       "    'amount': '1000000000000000000',\n",
       "    'voter': '0x4109266acac7bc28c754884920b059e016ddaf41',\n",
       "    'applicationIndex': '34',\n",
       "    'blockNumber': '17157397',\n",
       "    'blockTimestamp': '1682839931',\n",
       "    'grantAddress': '0x7d658841f8ba93299970f6e765c2ce205f1e70dd',\n",
       "    'projectId': '0x3b839e762e389f72b3c43b70aeb7bb5c43a3781feda8683c29d5ae4896c6166c',\n",
       "    'roundAddress': '0x12bb5bbbfe596dbc489d209299b8302c3300fa40',\n",
       "    'transactionHash': '0x0004416d668acc01d1e63d3a2075157b72d9f697c60f6cd4020f118f9e69bb48'},\n",
       "   {'id': '0x0004416d668acc01d1e63d3a2075157b72d9f697c60f6cd4020f118f9e69bb48d3000000',\n",
       "    'token': '0x6b175474e89094c44da98b954eedeac495271d0f',\n",
       "    'amount': '1000000000000000000',\n",
       "    'voter': '0x4109266acac7bc28c754884920b059e016ddaf41',\n",
       "    'applicationIndex': '87',\n",
       "    'blockNumber': '17157397',\n",
       "    'blockTimestamp': '1682839931',\n",
       "    'grantAddress': '0x99b36fdbc582d113af36a21eba06bfeab7b9be12',\n",
       "    'projectId': '0xafb022ea11846bceb90516c35155defd6404e4948697cbfca25f5d34cf5321fb',\n",
       "    'roundAddress': '0x12bb5bbbfe596dbc489d209299b8302c3300fa40',\n",
       "    'transactionHash': '0x0004416d668acc01d1e63d3a2075157b72d9f697c60f6cd4020f118f9e69bb48'},\n",
       "   {'id': '0x0004416d668acc01d1e63d3a2075157b72d9f697c60f6cd4020f118f9e69bb48d5000000',\n",
       "    'token': '0x6b175474e89094c44da98b954eedeac495271d0f',\n",
       "    'amount': '1000000000000000000',\n",
       "    'voter': '0x4109266acac7bc28c754884920b059e016ddaf41',\n",
       "    'applicationIndex': '18',\n",
       "    'blockNumber': '17157397',\n",
       "    'blockTimestamp': '1682839931',\n",
       "    'grantAddress': '0x18aa467e40e1defb1956708830a343c1d01d3d7c',\n",
       "    'projectId': '0x60c037f9dfa5daee0f07bc26fb73393ef924e36c73c41ea6bd58029e1724de36',\n",
       "    'roundAddress': '0x12bb5bbbfe596dbc489d209299b8302c3300fa40',\n",
       "    'transactionHash': '0x0004416d668acc01d1e63d3a2075157b72d9f697c60f6cd4020f118f9e69bb48'}]}}"
      ]
     },
     "execution_count": 22,
     "metadata": {},
     "output_type": "execute_result"
    }
   ],
   "source": [
    "response.json()"
   ]
  },
  {
   "cell_type": "code",
   "execution_count": 27,
   "metadata": {},
   "outputs": [],
   "source": [
    "GRAPH_API_KEY = '1ab39013c91aa36abf185d3d739bcbf1'\n",
    "\n",
    "GRAPH_GITCOIN_GRANTS_URL = f'https://gateway-arbitrum.network.thegraph.com/api/{GRAPH_API_KEY}/subgraphs/id/2UamqKr2Pr5iLFQtgowHQKA3gjibrnQpBER4Nof5FDVA'\n",
    "response = requests.post(GRAPH_GITCOIN_GRANTS_URL, json={'query': query})"
   ]
  },
  {
   "cell_type": "code",
   "execution_count": 28,
   "metadata": {},
   "outputs": [
    {
     "data": {
      "text/plain": [
       "{'errors': [{'message': 'Subgraph deployment not found: Qmc7wJMhSML7fGP1gPr3sQdJWTRkguU1FknnUYVxe4RPYp'}]}"
      ]
     },
     "execution_count": 28,
     "metadata": {},
     "output_type": "execute_result"
    }
   ],
   "source": [
    "response.json()"
   ]
  },
  {
   "cell_type": "code",
   "execution_count": null,
   "metadata": {},
   "outputs": [
    {
     "ename": "KeyError",
     "evalue": "'data'",
     "output_type": "error",
     "traceback": [
      "\u001b[1;31m---------------------------------------------------------------------------\u001b[0m",
      "\u001b[1;31mKeyError\u001b[0m                                  Traceback (most recent call last)",
      "Cell \u001b[1;32mIn[7], line 1\u001b[0m\n\u001b[1;32m----> 1\u001b[0m get_round_applications(\u001b[39m'\u001b[39;49m\u001b[39m0xdf75054cd67217aee44b4f9e4ebc651c00330938\u001b[39;49m\u001b[39m'\u001b[39;49m)\n",
      "Cell \u001b[1;32mIn[2], line 20\u001b[0m, in \u001b[0;36mget_round_applications\u001b[1;34m(round_address)\u001b[0m\n\u001b[0;32m     15\u001b[0m response \u001b[39m=\u001b[39m requests\u001b[39m.\u001b[39mpost(GRAPH_GITCOIN_GRANTS_URL, json\u001b[39m=\u001b[39m{\u001b[39m'\u001b[39m\u001b[39mquery\u001b[39m\u001b[39m'\u001b[39m: applications_query})\n\u001b[0;32m     17\u001b[0m \u001b[39mif\u001b[39;00m response\u001b[39m.\u001b[39mok:\n\u001b[0;32m     18\u001b[0m \n\u001b[0;32m     19\u001b[0m   \u001b[39m#since the project can be updated multiple times, retrieve information from latest update\u001b[39;00m\n\u001b[1;32m---> 20\u001b[0m   df_applications \u001b[39m=\u001b[39m pd\u001b[39m.\u001b[39mDataFrame(response\u001b[39m.\u001b[39;49mjson()[\u001b[39m'\u001b[39;49m\u001b[39mdata\u001b[39;49m\u001b[39m'\u001b[39;49m][\u001b[39m'\u001b[39m\u001b[39mapplications\u001b[39m\u001b[39m'\u001b[39m])\n\u001b[0;32m     21\u001b[0m   idx \u001b[39m=\u001b[39m df_applications\u001b[39m.\u001b[39mgroupby([\u001b[39m'\u001b[39m\u001b[39mprojectId\u001b[39m\u001b[39m'\u001b[39m])[\u001b[39m'\u001b[39m\u001b[39mblockNumber\u001b[39m\u001b[39m'\u001b[39m]\u001b[39m.\u001b[39mtransform(\u001b[39mmax\u001b[39m) \u001b[39m==\u001b[39m df_applications[\u001b[39m'\u001b[39m\u001b[39mblockNumber\u001b[39m\u001b[39m'\u001b[39m]\n\u001b[0;32m     22\u001b[0m   \u001b[39mreturn\u001b[39;00m df_applications[idx]\u001b[39m.\u001b[39mto_dict(orient\u001b[39m=\u001b[39m\u001b[39m\"\u001b[39m\u001b[39mrecords\u001b[39m\u001b[39m\"\u001b[39m)\n",
      "\u001b[1;31mKeyError\u001b[0m: 'data'"
     ]
    }
   ],
   "source": [
    "get_round_applications('0xdf75054cd67217aee44b4f9e4ebc651c00330938')"
   ]
  }
 ],
 "metadata": {
  "kernelspec": {
   "display_name": ".venv",
   "language": "python",
   "name": "python3"
  },
  "language_info": {
   "codemirror_mode": {
    "name": "ipython",
    "version": 3
   },
   "file_extension": ".py",
   "mimetype": "text/x-python",
   "name": "python",
   "nbconvert_exporter": "python",
   "pygments_lexer": "ipython3",
   "version": "3.10.9"
  },
  "orig_nbformat": 4
 },
 "nbformat": 4,
 "nbformat_minor": 2
}
