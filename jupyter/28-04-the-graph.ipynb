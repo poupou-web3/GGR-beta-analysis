{
 "cells": [
  {
   "cell_type": "code",
   "execution_count": 1,
   "metadata": {},
   "outputs": [],
   "source": [
    "import sys\n",
    "import pandas as pd\n",
    "import numpy as np\n",
    "import seaborn as sns\n",
    "from pathlib import Path\n",
    "import os"
   ]
  },
  {
   "cell_type": "code",
   "execution_count": 2,
   "metadata": {},
   "outputs": [
    {
     "data": {
      "text/plain": [
       "'c:\\\\Users\\\\DELL Admin\\\\Documents\\\\ODC\\\\RegenRangers\\\\data'"
      ]
     },
     "execution_count": 2,
     "metadata": {},
     "output_type": "execute_result"
    }
   ],
   "source": [
    "current_dir = Path(os.getcwd())\n",
    "path_to_data = os.path.join(current_dir.parent.parent, 'data')\n",
    "path_to_data"
   ]
  },
  {
   "cell_type": "code",
   "execution_count": 3,
   "metadata": {},
   "outputs": [],
   "source": [
    "df_grants = pd.read_csv(os.path.join(path_to_data, 'Beta-applicants-projects.csv'))"
   ]
  },
  {
   "cell_type": "code",
   "execution_count": 4,
   "metadata": {},
   "outputs": [],
   "source": [
    "import requests"
   ]
  },
  {
   "cell_type": "code",
   "execution_count": 5,
   "metadata": {},
   "outputs": [],
   "source": [
    "# example function kikura\n",
    "def get_round_applications(round_address):\n",
    "\n",
    "  applications_query = \"\"\"\n",
    "  query {\n",
    "  voteds(first: 5) {\n",
    "    id\n",
    "    token\n",
    "    amount\n",
    "    voter\n",
    "    applicationIndex\n",
    "    blockNumber\n",
    "    blockTimestamp\n",
    "    grantAddress\n",
    "    projectId\n",
    "    roundAddress\n",
    "    transactionHash\n",
    "  }\n",
    "}\n",
    "  \"\"\"\n",
    "\n",
    "  response = requests.post(GRAPH_GITCOIN_GRANTS_URL, json={'query': applications_query})\n",
    "\n",
    "  if response.ok:\n",
    "\n",
    "    #since the project can be updated multiple times, retrieve information from latest update\n",
    "    df_applications = pd.DataFrame(response.json()['data']['applications'])\n",
    "    idx = df_applications.groupby(['projectId'])['blockNumber'].transform(max) == df_applications['blockNumber']\n",
    "    return df_applications[idx].to_dict(orient=\"records\")\n",
    "\n",
    "  else:\n",
    "    logger.info(response.text)\n",
    "    return None"
   ]
  },
  {
   "cell_type": "code",
   "execution_count": 6,
   "metadata": {},
   "outputs": [],
   "source": [
    "query = \"\"\"\n",
    "query {\n",
    "voteds(first: 100, , skip : 5) {\n",
    "    id\n",
    "    token\n",
    "    amount\n",
    "    voter\n",
    "    applicationIndex\n",
    "    blockNumber\n",
    "    blockTimestamp\n",
    "    grantAddress\n",
    "    projectId\n",
    "    roundAddress\n",
    "    transactionHash\n",
    "  }\n",
    "}\n",
    "\"\"\""
   ]
  },
  {
   "cell_type": "code",
   "execution_count": null,
   "metadata": {},
   "outputs": [],
   "source": []
  },
  {
   "cell_type": "code",
   "execution_count": 7,
   "metadata": {},
   "outputs": [],
   "source": [
    "# Test query url\n",
    "GRAPh_API_KEY = '1ab39013c91aa36abf185d3d739bcbf1'\n",
    "GRAPH_GITCOIN_GRANTS_URL = f'https://api.studio.thegraph.com/query/38576/allo-grants-beta-subgraph/v0.1.0'\n",
    "response = requests.post(GRAPH_GITCOIN_GRANTS_URL, json={'query': query})"
   ]
  },
  {
   "cell_type": "code",
   "execution_count": 8,
   "metadata": {},
   "outputs": [],
   "source": [
    "df = pd.DataFrame(response.json().get('data').get('voteds'))"
   ]
  },
  {
   "cell_type": "code",
   "execution_count": 9,
   "metadata": {},
   "outputs": [
    {
     "data": {
      "text/plain": [
       "(100, 11)"
      ]
     },
     "execution_count": 9,
     "metadata": {},
     "output_type": "execute_result"
    }
   ],
   "source": [
    "df.shape"
   ]
  },
  {
   "cell_type": "code",
   "execution_count": 10,
   "metadata": {},
   "outputs": [
    {
     "data": {
      "text/plain": [
       "0     0x0004416d668acc01d1e63d3a2075157b72d9f697c60f...\n",
       "1     0x0004416d668acc01d1e63d3a2075157b72d9f697c60f...\n",
       "2     0x000a7cc6b7dc924f6a654d39c7ae8a1f51eae3a49e00...\n",
       "3     0x000b4095215f7ee2f896dad32555e8de7abb473abb4f...\n",
       "4     0x001ff3826c24ec7ea0f26cda4479f76c2e8c46af5778...\n",
       "                            ...                        \n",
       "95    0x0100288013e32cf43fedc732cbd3d1496c1a99025aab...\n",
       "96    0x0104dc9e8fa6bc714314018f4c1de99080fc702f7f95...\n",
       "97    0x0104dc9e8fa6bc714314018f4c1de99080fc702f7f95...\n",
       "98    0x010d2865ffab3b0b7a14063f57a2fe8933ccf629f4e5...\n",
       "99    0x0114e3bc43c2a22a814d093b163cfa75f4af4aa6b972...\n",
       "Name: id, Length: 100, dtype: object"
      ]
     },
     "execution_count": 10,
     "metadata": {},
     "output_type": "execute_result"
    }
   ],
   "source": [
    "df['id']"
   ]
  },
  {
   "cell_type": "code",
   "execution_count": 11,
   "metadata": {},
   "outputs": [
    {
     "data": {
      "text/plain": [
       "'0xb6a332decc38c703130a537ce7fcfe5a24bd85e52e0769994bc752d04e182cca'"
      ]
     },
     "execution_count": 11,
     "metadata": {},
     "output_type": "execute_result"
    }
   ],
   "source": [
    "df['projectId'][0]"
   ]
  },
  {
   "cell_type": "code",
   "execution_count": 12,
   "metadata": {},
   "outputs": [],
   "source": [
    "GRAPH_API_KEY = 'c1b91157d170d13f662e7b8727f94472'\n",
    "GRAPH_GITCOIN_GRANTS_URL = f'https://gateway-arbitrum.network.thegraph.com/api/{GRAPH_API_KEY}/subgraphs/id/2UamqKr2Pr5iLFQtgowHQKA3gjibrnQpBER4Nof5FDVA'\n",
    "response = requests.post(GRAPH_GITCOIN_GRANTS_URL, json={'query': query})"
   ]
  },
  {
   "cell_type": "code",
   "execution_count": 13,
   "metadata": {},
   "outputs": [
    {
     "data": {
      "text/plain": [
       "{'errors': [{'message': 'Querying not activated yet; make sure to add some GRT to your balance in the studio'}]}"
      ]
     },
     "execution_count": 13,
     "metadata": {},
     "output_type": "execute_result"
    }
   ],
   "source": [
    "response.json()"
   ]
  },
  {
   "cell_type": "code",
   "execution_count": 14,
   "metadata": {},
   "outputs": [
    {
     "ename": "KeyError",
     "evalue": "'data'",
     "output_type": "error",
     "traceback": [
      "\u001b[1;31m---------------------------------------------------------------------------\u001b[0m",
      "\u001b[1;31mKeyError\u001b[0m                                  Traceback (most recent call last)",
      "Cell \u001b[1;32mIn[14], line 1\u001b[0m\n\u001b[1;32m----> 1\u001b[0m get_round_applications(\u001b[39m'\u001b[39;49m\u001b[39m0xdf75054cd67217aee44b4f9e4ebc651c00330938\u001b[39;49m\u001b[39m'\u001b[39;49m)\n",
      "Cell \u001b[1;32mIn[5], line 27\u001b[0m, in \u001b[0;36mget_round_applications\u001b[1;34m(round_address)\u001b[0m\n\u001b[0;32m     22\u001b[0m response \u001b[39m=\u001b[39m requests\u001b[39m.\u001b[39mpost(GRAPH_GITCOIN_GRANTS_URL, json\u001b[39m=\u001b[39m{\u001b[39m'\u001b[39m\u001b[39mquery\u001b[39m\u001b[39m'\u001b[39m: applications_query})\n\u001b[0;32m     24\u001b[0m \u001b[39mif\u001b[39;00m response\u001b[39m.\u001b[39mok:\n\u001b[0;32m     25\u001b[0m \n\u001b[0;32m     26\u001b[0m   \u001b[39m#since the project can be updated multiple times, retrieve information from latest update\u001b[39;00m\n\u001b[1;32m---> 27\u001b[0m   df_applications \u001b[39m=\u001b[39m pd\u001b[39m.\u001b[39mDataFrame(response\u001b[39m.\u001b[39;49mjson()[\u001b[39m'\u001b[39;49m\u001b[39mdata\u001b[39;49m\u001b[39m'\u001b[39;49m][\u001b[39m'\u001b[39m\u001b[39mapplications\u001b[39m\u001b[39m'\u001b[39m])\n\u001b[0;32m     28\u001b[0m   idx \u001b[39m=\u001b[39m df_applications\u001b[39m.\u001b[39mgroupby([\u001b[39m'\u001b[39m\u001b[39mprojectId\u001b[39m\u001b[39m'\u001b[39m])[\u001b[39m'\u001b[39m\u001b[39mblockNumber\u001b[39m\u001b[39m'\u001b[39m]\u001b[39m.\u001b[39mtransform(\u001b[39mmax\u001b[39m) \u001b[39m==\u001b[39m df_applications[\u001b[39m'\u001b[39m\u001b[39mblockNumber\u001b[39m\u001b[39m'\u001b[39m]\n\u001b[0;32m     29\u001b[0m   \u001b[39mreturn\u001b[39;00m df_applications[idx]\u001b[39m.\u001b[39mto_dict(orient\u001b[39m=\u001b[39m\u001b[39m\"\u001b[39m\u001b[39mrecords\u001b[39m\u001b[39m\"\u001b[39m)\n",
      "\u001b[1;31mKeyError\u001b[0m: 'data'"
     ]
    }
   ],
   "source": [
    "get_round_applications('0xdf75054cd67217aee44b4f9e4ebc651c00330938')"
   ]
  },
  {
   "cell_type": "code",
   "execution_count": 15,
   "metadata": {},
   "outputs": [
    {
     "ename": "ModuleNotFoundError",
     "evalue": "No module named 'web3'",
     "output_type": "error",
     "traceback": [
      "\u001b[1;31m---------------------------------------------------------------------------\u001b[0m",
      "\u001b[1;31mModuleNotFoundError\u001b[0m                       Traceback (most recent call last)",
      "Cell \u001b[1;32mIn[15], line 1\u001b[0m\n\u001b[1;32m----> 1\u001b[0m \u001b[39mfrom\u001b[39;00m \u001b[39mweb3\u001b[39;00m \u001b[39mimport\u001b[39;00m Web3\n",
      "\u001b[1;31mModuleNotFoundError\u001b[0m: No module named 'web3'"
     ]
    }
   ],
   "source": [
    "from web3 import Web3"
   ]
  },
  {
   "cell_type": "code",
   "execution_count": null,
   "metadata": {},
   "outputs": [
    {
     "ename": "ModuleNotFoundError",
     "evalue": "No module named 'web3'",
     "output_type": "error",
     "traceback": [
      "\u001b[1;31m---------------------------------------------------------------------------\u001b[0m",
      "\u001b[1;31mModuleNotFoundError\u001b[0m                       Traceback (most recent call last)",
      "Cell \u001b[1;32mIn[2], line 1\u001b[0m\n\u001b[1;32m----> 1\u001b[0m \u001b[39mfrom\u001b[39;00m \u001b[39mweb3\u001b[39;00m \u001b[39mimport\u001b[39;00m Web3\n\u001b[0;32m      3\u001b[0m \u001b[39mdef\u001b[39;00m \u001b[39mgenerate_unique_round_application_id\u001b[39m(project_chain_id: \u001b[39mint\u001b[39m, project_number: \u001b[39mstr\u001b[39m, project_registry_address: \u001b[39mstr\u001b[39m) \u001b[39m-\u001b[39m\u001b[39m>\u001b[39m \u001b[39mbytes\u001b[39m:\n\u001b[0;32m      4\u001b[0m     registry_address \u001b[39m=\u001b[39m Web3\u001b[39m.\u001b[39mtoChecksumAddress(project_registry_address)\n",
      "\u001b[1;31mModuleNotFoundError\u001b[0m: No module named 'web3'"
     ]
    }
   ],
   "source": [
    "\n",
    "\n",
    "def generate_unique_round_application_id(project_chain_id: int, project_number: str, project_registry_address: str) -> bytes:\n",
    "    registry_address = Web3.toChecksumAddress(project_registry_address)\n",
    "    project_number_int = int(project_number)\n",
    "    hash_bytes = Web3.solidityKeccak([\"uint256\", \"address\", \"uint256\"], [project_chain_id, registry_address, project_number_int])\n",
    "    return hash_bytes"
   ]
  }
 ],
 "metadata": {
  "kernelspec": {
   "display_name": ".venv",
   "language": "python",
   "name": "python3"
  },
  "language_info": {
   "codemirror_mode": {
    "name": "ipython",
    "version": 3
   },
   "file_extension": ".py",
   "mimetype": "text/x-python",
   "name": "python",
   "nbconvert_exporter": "python",
   "pygments_lexer": "ipython3",
   "version": "3.10.9"
  },
  "orig_nbformat": 4
 },
 "nbformat": 4,
 "nbformat_minor": 2
}
