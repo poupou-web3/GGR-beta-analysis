{
 "cells": [
  {
   "cell_type": "code",
   "execution_count": 190,
   "metadata": {},
   "outputs": [],
   "source": [
    "import sys\n",
    "import pandas as pd\n",
    "import numpy as np\n",
    "import seaborn as sns\n",
    "from pathlib import Path\n",
    "import os\n",
    "\n",
    "from readability import Readability"
   ]
  },
  {
   "cell_type": "code",
   "execution_count": 191,
   "metadata": {},
   "outputs": [
    {
     "data": {
      "text/plain": [
       "'c:\\\\Users\\\\DELL Admin\\\\Documents\\\\ODC\\\\RegenRangers\\\\data'"
      ]
     },
     "execution_count": 191,
     "metadata": {},
     "output_type": "execute_result"
    }
   ],
   "source": [
    "current_dir = Path(os.getcwd())\n",
    "path_to_data = os.path.join(current_dir.parent.parent, 'data')\n",
    "path_to_data"
   ]
  },
  {
   "cell_type": "code",
   "execution_count": 192,
   "metadata": {},
   "outputs": [],
   "source": [
    "df_grants = pd.read_csv(os.path.join(path_to_data, 'Beta-applicants-projects.csv'))"
   ]
  },
  {
   "cell_type": "code",
   "execution_count": 193,
   "metadata": {},
   "outputs": [
    {
     "data": {
      "text/plain": [
       "Index(['id', 'projectNumber', 'roundId', 'status', 'amountUSD', 'votes',\n",
       "       'uniqueContributors', 'payoutAddress', 'metadata.signature',\n",
       "       'metadata.application.round', 'metadata.application.recipient',\n",
       "       'metadata.application.project.lastUpdated',\n",
       "       'metadata.application.project.createdAt',\n",
       "       'metadata.application.project.id', 'metadata.application.project.title',\n",
       "       'metadata.application.project.description',\n",
       "       'metadata.application.project.website',\n",
       "       'metadata.application.project.bannerImg',\n",
       "       'metadata.application.project.logoImg',\n",
       "       'metadata.application.project.metaPtr.protocol',\n",
       "       'metadata.application.project.metaPtr.pointer',\n",
       "       'metadata.application.project.userGithub',\n",
       "       'metadata.application.project.projectGithub',\n",
       "       'metadata.application.project.projectTwitter',\n",
       "       'metadata.application.project.credentials.twitter.@context',\n",
       "       'metadata.application.project.credentials.twitter.type',\n",
       "       'metadata.application.project.credentials.twitter.credentialSubject.id',\n",
       "       'metadata.application.project.credentials.twitter.credentialSubject.@context',\n",
       "       'metadata.application.project.credentials.twitter.credentialSubject.provider',\n",
       "       'metadata.application.project.credentials.twitter.credentialSubject.hash',\n",
       "       'metadata.application.project.credentials.twitter.issuer',\n",
       "       'metadata.application.project.credentials.twitter.issuanceDate',\n",
       "       'metadata.application.project.credentials.twitter.proof.type',\n",
       "       'metadata.application.project.credentials.twitter.proof.proofPurpose',\n",
       "       'metadata.application.project.credentials.twitter.proof.verificationMethod',\n",
       "       'metadata.application.project.credentials.twitter.proof.created',\n",
       "       'metadata.application.project.credentials.twitter.proof.jws',\n",
       "       'metadata.application.project.credentials.twitter.expirationDate',\n",
       "       'metadata.application.project.credentials.github.@context',\n",
       "       'metadata.application.project.credentials.github.type',\n",
       "       'metadata.application.project.credentials.github.credentialSubject.id',\n",
       "       'metadata.application.project.credentials.github.credentialSubject.provider',\n",
       "       'metadata.application.project.credentials.github.credentialSubject.hash',\n",
       "       'metadata.application.project.credentials.github.credentialSubject.@context',\n",
       "       'metadata.application.project.credentials.github.issuer',\n",
       "       'metadata.application.project.credentials.github.issuanceDate',\n",
       "       'metadata.application.project.credentials.github.proof.type',\n",
       "       'metadata.application.project.credentials.github.proof.proofPurpose',\n",
       "       'metadata.application.project.credentials.github.proof.verificationMethod',\n",
       "       'metadata.application.project.credentials.github.proof.created',\n",
       "       'metadata.application.project.credentials.github.proof.jws',\n",
       "       'metadata.application.project.credentials.github.expirationDate',\n",
       "       'metadata.application.answers'],\n",
       "      dtype='object')"
      ]
     },
     "execution_count": 193,
     "metadata": {},
     "output_type": "execute_result"
    }
   ],
   "source": [
    "df_grants.columns"
   ]
  },
  {
   "cell_type": "code",
   "execution_count": 194,
   "metadata": {},
   "outputs": [
    {
     "data": {
      "text/plain": [
       "(538, 53)"
      ]
     },
     "execution_count": 194,
     "metadata": {},
     "output_type": "execute_result"
    }
   ],
   "source": [
    "df_grants.shape"
   ]
  },
  {
   "cell_type": "code",
   "execution_count": 195,
   "metadata": {},
   "outputs": [
    {
     "data": {
      "text/html": [
       "<div>\n",
       "<style scoped>\n",
       "    .dataframe tbody tr th:only-of-type {\n",
       "        vertical-align: middle;\n",
       "    }\n",
       "\n",
       "    .dataframe tbody tr th {\n",
       "        vertical-align: top;\n",
       "    }\n",
       "\n",
       "    .dataframe thead th {\n",
       "        text-align: right;\n",
       "    }\n",
       "</style>\n",
       "<table border=\"1\" class=\"dataframe\">\n",
       "  <thead>\n",
       "    <tr style=\"text-align: right;\">\n",
       "      <th></th>\n",
       "      <th>id</th>\n",
       "      <th>projectNumber</th>\n",
       "      <th>roundId</th>\n",
       "      <th>status</th>\n",
       "      <th>amountUSD</th>\n",
       "      <th>votes</th>\n",
       "      <th>uniqueContributors</th>\n",
       "      <th>payoutAddress</th>\n",
       "      <th>metadata.signature</th>\n",
       "      <th>metadata.application.round</th>\n",
       "      <th>...</th>\n",
       "      <th>metadata.application.project.credentials.github.credentialSubject.@context</th>\n",
       "      <th>metadata.application.project.credentials.github.issuer</th>\n",
       "      <th>metadata.application.project.credentials.github.issuanceDate</th>\n",
       "      <th>metadata.application.project.credentials.github.proof.type</th>\n",
       "      <th>metadata.application.project.credentials.github.proof.proofPurpose</th>\n",
       "      <th>metadata.application.project.credentials.github.proof.verificationMethod</th>\n",
       "      <th>metadata.application.project.credentials.github.proof.created</th>\n",
       "      <th>metadata.application.project.credentials.github.proof.jws</th>\n",
       "      <th>metadata.application.project.credentials.github.expirationDate</th>\n",
       "      <th>metadata.application.answers</th>\n",
       "    </tr>\n",
       "  </thead>\n",
       "  <tbody>\n",
       "    <tr>\n",
       "      <th>0</th>\n",
       "      <td>0x6aeb3ddab061203d32594b03901bf458679a66fbeab9...</td>\n",
       "      <td>355.0</td>\n",
       "      <td>0x12BB5bBbFE596dbc489d209299B8302c3300fa40</td>\n",
       "      <td>PENDING</td>\n",
       "      <td>0</td>\n",
       "      <td>0</td>\n",
       "      <td>0</td>\n",
       "      <td>NaN</td>\n",
       "      <td>0x4c3db176694bdfc0f9e4a04738205d562ef31a026699...</td>\n",
       "      <td>0x12bb5bbbfe596dbc489d209299b8302c3300fa40</td>\n",
       "      <td>...</td>\n",
       "      <td>[{'hash': 'https://schema.org/Text', 'provider...</td>\n",
       "      <td>did:key:z6MkghvGHLobLEdj1bgRLhS4LPGJAvbMA1tn2z...</td>\n",
       "      <td>2023-04-12T09:48:40.402Z</td>\n",
       "      <td>Ed25519Signature2018</td>\n",
       "      <td>assertionMethod</td>\n",
       "      <td>did:key:z6MkghvGHLobLEdj1bgRLhS4LPGJAvbMA1tn2z...</td>\n",
       "      <td>2023-04-12T09:48:40.402Z</td>\n",
       "      <td>eyJhbGciOiJFZERTQSIsImNyaXQiOlsiYjY0Il0sImI2NC...</td>\n",
       "      <td>2023-07-11T09:48:40.402Z</td>\n",
       "      <td>[{'questionId': 0, 'question': 'Email Address'...</td>\n",
       "    </tr>\n",
       "    <tr>\n",
       "      <th>1</th>\n",
       "      <td>0xdeffc2d190ddec88d06ba86e1eb09abe5a9ccb49ab1d...</td>\n",
       "      <td>174.0</td>\n",
       "      <td>0x12BB5bBbFE596dbc489d209299B8302c3300fa40</td>\n",
       "      <td>PENDING</td>\n",
       "      <td>0</td>\n",
       "      <td>0</td>\n",
       "      <td>0</td>\n",
       "      <td>NaN</td>\n",
       "      <td>0xc9f5e29fcb4db0b0c9a5909f68c162ea5d16a275f705...</td>\n",
       "      <td>0x12bb5bbbfe596dbc489d209299b8302c3300fa40</td>\n",
       "      <td>...</td>\n",
       "      <td>[{'hash': 'https://schema.org/Text', 'provider...</td>\n",
       "      <td>did:key:z6MkghvGHLobLEdj1bgRLhS4LPGJAvbMA1tn2z...</td>\n",
       "      <td>2023-01-13T08:12:23.363Z</td>\n",
       "      <td>Ed25519Signature2018</td>\n",
       "      <td>assertionMethod</td>\n",
       "      <td>did:key:z6MkghvGHLobLEdj1bgRLhS4LPGJAvbMA1tn2z...</td>\n",
       "      <td>2023-01-13T08:12:23.363Z</td>\n",
       "      <td>eyJhbGciOiJFZERTQSIsImNyaXQiOlsiYjY0Il0sImI2NC...</td>\n",
       "      <td>2023-04-13T08:12:23.363Z</td>\n",
       "      <td>[{'questionId': 0, 'question': 'Email Address'...</td>\n",
       "    </tr>\n",
       "    <tr>\n",
       "      <th>2</th>\n",
       "      <td>0x2f4109ec6cfc94018aba83b965d4debe69381b9e86c9...</td>\n",
       "      <td>291.0</td>\n",
       "      <td>0x12BB5bBbFE596dbc489d209299B8302c3300fa40</td>\n",
       "      <td>PENDING</td>\n",
       "      <td>0</td>\n",
       "      <td>0</td>\n",
       "      <td>0</td>\n",
       "      <td>NaN</td>\n",
       "      <td>0x0d5b170ceeb72eaec00a595f8270a676937acbeb67b9...</td>\n",
       "      <td>0x12bb5bbbfe596dbc489d209299b8302c3300fa40</td>\n",
       "      <td>...</td>\n",
       "      <td>[{'hash': 'https://schema.org/Text', 'provider...</td>\n",
       "      <td>did:key:z6MkghvGHLobLEdj1bgRLhS4LPGJAvbMA1tn2z...</td>\n",
       "      <td>2023-04-12T19:34:27.203Z</td>\n",
       "      <td>Ed25519Signature2018</td>\n",
       "      <td>assertionMethod</td>\n",
       "      <td>did:key:z6MkghvGHLobLEdj1bgRLhS4LPGJAvbMA1tn2z...</td>\n",
       "      <td>2023-04-12T19:34:27.203Z</td>\n",
       "      <td>eyJhbGciOiJFZERTQSIsImNyaXQiOlsiYjY0Il0sImI2NC...</td>\n",
       "      <td>2023-07-11T19:34:27.203Z</td>\n",
       "      <td>[{'questionId': 0, 'question': 'Email Address'...</td>\n",
       "    </tr>\n",
       "    <tr>\n",
       "      <th>3</th>\n",
       "      <td>0xfea4b1dccc14b6b2d06d08ec300222497194f0f95437...</td>\n",
       "      <td>307.0</td>\n",
       "      <td>0x12BB5bBbFE596dbc489d209299B8302c3300fa40</td>\n",
       "      <td>PENDING</td>\n",
       "      <td>0</td>\n",
       "      <td>0</td>\n",
       "      <td>0</td>\n",
       "      <td>NaN</td>\n",
       "      <td>0x32a6db08937189778a4fee954a738ad534598a1fc113...</td>\n",
       "      <td>0x12bb5bbbfe596dbc489d209299b8302c3300fa40</td>\n",
       "      <td>...</td>\n",
       "      <td>[{'hash': 'https://schema.org/Text', 'provider...</td>\n",
       "      <td>did:key:z6MkghvGHLobLEdj1bgRLhS4LPGJAvbMA1tn2z...</td>\n",
       "      <td>2023-04-12T20:30:12.252Z</td>\n",
       "      <td>Ed25519Signature2018</td>\n",
       "      <td>assertionMethod</td>\n",
       "      <td>did:key:z6MkghvGHLobLEdj1bgRLhS4LPGJAvbMA1tn2z...</td>\n",
       "      <td>2023-04-12T20:30:12.252Z</td>\n",
       "      <td>eyJhbGciOiJFZERTQSIsImNyaXQiOlsiYjY0Il0sImI2NC...</td>\n",
       "      <td>2023-07-11T20:30:12.252Z</td>\n",
       "      <td>[{'questionId': 0, 'question': 'Email Address'...</td>\n",
       "    </tr>\n",
       "    <tr>\n",
       "      <th>4</th>\n",
       "      <td>0x6240733cbc0b059b43031826f606ee20ad649694e473...</td>\n",
       "      <td>340.0</td>\n",
       "      <td>0x12BB5bBbFE596dbc489d209299B8302c3300fa40</td>\n",
       "      <td>PENDING</td>\n",
       "      <td>0</td>\n",
       "      <td>0</td>\n",
       "      <td>0</td>\n",
       "      <td>NaN</td>\n",
       "      <td>0xa8445a15122bb07f1daaad049f50dc52107540547cd5...</td>\n",
       "      <td>0x12bb5bbbfe596dbc489d209299b8302c3300fa40</td>\n",
       "      <td>...</td>\n",
       "      <td>[{'hash': 'https://schema.org/Text', 'provider...</td>\n",
       "      <td>did:key:z6MkghvGHLobLEdj1bgRLhS4LPGJAvbMA1tn2z...</td>\n",
       "      <td>2023-04-12T21:36:13.514Z</td>\n",
       "      <td>Ed25519Signature2018</td>\n",
       "      <td>assertionMethod</td>\n",
       "      <td>did:key:z6MkghvGHLobLEdj1bgRLhS4LPGJAvbMA1tn2z...</td>\n",
       "      <td>2023-04-12T21:36:13.514Z</td>\n",
       "      <td>eyJhbGciOiJFZERTQSIsImNyaXQiOlsiYjY0Il0sImI2NC...</td>\n",
       "      <td>2023-07-11T21:36:13.514Z</td>\n",
       "      <td>[{'questionId': 0, 'question': 'Email Address'...</td>\n",
       "    </tr>\n",
       "  </tbody>\n",
       "</table>\n",
       "<p>5 rows × 53 columns</p>\n",
       "</div>"
      ],
      "text/plain": [
       "                                                  id  projectNumber   \n",
       "0  0x6aeb3ddab061203d32594b03901bf458679a66fbeab9...          355.0  \\\n",
       "1  0xdeffc2d190ddec88d06ba86e1eb09abe5a9ccb49ab1d...          174.0   \n",
       "2  0x2f4109ec6cfc94018aba83b965d4debe69381b9e86c9...          291.0   \n",
       "3  0xfea4b1dccc14b6b2d06d08ec300222497194f0f95437...          307.0   \n",
       "4  0x6240733cbc0b059b43031826f606ee20ad649694e473...          340.0   \n",
       "\n",
       "                                      roundId   status  amountUSD  votes   \n",
       "0  0x12BB5bBbFE596dbc489d209299B8302c3300fa40  PENDING          0      0  \\\n",
       "1  0x12BB5bBbFE596dbc489d209299B8302c3300fa40  PENDING          0      0   \n",
       "2  0x12BB5bBbFE596dbc489d209299B8302c3300fa40  PENDING          0      0   \n",
       "3  0x12BB5bBbFE596dbc489d209299B8302c3300fa40  PENDING          0      0   \n",
       "4  0x12BB5bBbFE596dbc489d209299B8302c3300fa40  PENDING          0      0   \n",
       "\n",
       "   uniqueContributors  payoutAddress   \n",
       "0                   0            NaN  \\\n",
       "1                   0            NaN   \n",
       "2                   0            NaN   \n",
       "3                   0            NaN   \n",
       "4                   0            NaN   \n",
       "\n",
       "                                  metadata.signature   \n",
       "0  0x4c3db176694bdfc0f9e4a04738205d562ef31a026699...  \\\n",
       "1  0xc9f5e29fcb4db0b0c9a5909f68c162ea5d16a275f705...   \n",
       "2  0x0d5b170ceeb72eaec00a595f8270a676937acbeb67b9...   \n",
       "3  0x32a6db08937189778a4fee954a738ad534598a1fc113...   \n",
       "4  0xa8445a15122bb07f1daaad049f50dc52107540547cd5...   \n",
       "\n",
       "                   metadata.application.round  ...   \n",
       "0  0x12bb5bbbfe596dbc489d209299b8302c3300fa40  ...  \\\n",
       "1  0x12bb5bbbfe596dbc489d209299b8302c3300fa40  ...   \n",
       "2  0x12bb5bbbfe596dbc489d209299b8302c3300fa40  ...   \n",
       "3  0x12bb5bbbfe596dbc489d209299b8302c3300fa40  ...   \n",
       "4  0x12bb5bbbfe596dbc489d209299b8302c3300fa40  ...   \n",
       "\n",
       "  metadata.application.project.credentials.github.credentialSubject.@context   \n",
       "0  [{'hash': 'https://schema.org/Text', 'provider...                          \\\n",
       "1  [{'hash': 'https://schema.org/Text', 'provider...                           \n",
       "2  [{'hash': 'https://schema.org/Text', 'provider...                           \n",
       "3  [{'hash': 'https://schema.org/Text', 'provider...                           \n",
       "4  [{'hash': 'https://schema.org/Text', 'provider...                           \n",
       "\n",
       "  metadata.application.project.credentials.github.issuer   \n",
       "0  did:key:z6MkghvGHLobLEdj1bgRLhS4LPGJAvbMA1tn2z...      \\\n",
       "1  did:key:z6MkghvGHLobLEdj1bgRLhS4LPGJAvbMA1tn2z...       \n",
       "2  did:key:z6MkghvGHLobLEdj1bgRLhS4LPGJAvbMA1tn2z...       \n",
       "3  did:key:z6MkghvGHLobLEdj1bgRLhS4LPGJAvbMA1tn2z...       \n",
       "4  did:key:z6MkghvGHLobLEdj1bgRLhS4LPGJAvbMA1tn2z...       \n",
       "\n",
       "   metadata.application.project.credentials.github.issuanceDate   \n",
       "0                           2023-04-12T09:48:40.402Z             \\\n",
       "1                           2023-01-13T08:12:23.363Z              \n",
       "2                           2023-04-12T19:34:27.203Z              \n",
       "3                           2023-04-12T20:30:12.252Z              \n",
       "4                           2023-04-12T21:36:13.514Z              \n",
       "\n",
       "  metadata.application.project.credentials.github.proof.type   \n",
       "0                               Ed25519Signature2018          \\\n",
       "1                               Ed25519Signature2018           \n",
       "2                               Ed25519Signature2018           \n",
       "3                               Ed25519Signature2018           \n",
       "4                               Ed25519Signature2018           \n",
       "\n",
       "  metadata.application.project.credentials.github.proof.proofPurpose   \n",
       "0                                    assertionMethod                  \\\n",
       "1                                    assertionMethod                   \n",
       "2                                    assertionMethod                   \n",
       "3                                    assertionMethod                   \n",
       "4                                    assertionMethod                   \n",
       "\n",
       "  metadata.application.project.credentials.github.proof.verificationMethod   \n",
       "0  did:key:z6MkghvGHLobLEdj1bgRLhS4LPGJAvbMA1tn2z...                        \\\n",
       "1  did:key:z6MkghvGHLobLEdj1bgRLhS4LPGJAvbMA1tn2z...                         \n",
       "2  did:key:z6MkghvGHLobLEdj1bgRLhS4LPGJAvbMA1tn2z...                         \n",
       "3  did:key:z6MkghvGHLobLEdj1bgRLhS4LPGJAvbMA1tn2z...                         \n",
       "4  did:key:z6MkghvGHLobLEdj1bgRLhS4LPGJAvbMA1tn2z...                         \n",
       "\n",
       "  metadata.application.project.credentials.github.proof.created   \n",
       "0                           2023-04-12T09:48:40.402Z             \\\n",
       "1                           2023-01-13T08:12:23.363Z              \n",
       "2                           2023-04-12T19:34:27.203Z              \n",
       "3                           2023-04-12T20:30:12.252Z              \n",
       "4                           2023-04-12T21:36:13.514Z              \n",
       "\n",
       "  metadata.application.project.credentials.github.proof.jws   \n",
       "0  eyJhbGciOiJFZERTQSIsImNyaXQiOlsiYjY0Il0sImI2NC...         \\\n",
       "1  eyJhbGciOiJFZERTQSIsImNyaXQiOlsiYjY0Il0sImI2NC...          \n",
       "2  eyJhbGciOiJFZERTQSIsImNyaXQiOlsiYjY0Il0sImI2NC...          \n",
       "3  eyJhbGciOiJFZERTQSIsImNyaXQiOlsiYjY0Il0sImI2NC...          \n",
       "4  eyJhbGciOiJFZERTQSIsImNyaXQiOlsiYjY0Il0sImI2NC...          \n",
       "\n",
       "  metadata.application.project.credentials.github.expirationDate   \n",
       "0                           2023-07-11T09:48:40.402Z              \\\n",
       "1                           2023-04-13T08:12:23.363Z               \n",
       "2                           2023-07-11T19:34:27.203Z               \n",
       "3                           2023-07-11T20:30:12.252Z               \n",
       "4                           2023-07-11T21:36:13.514Z               \n",
       "\n",
       "                        metadata.application.answers  \n",
       "0  [{'questionId': 0, 'question': 'Email Address'...  \n",
       "1  [{'questionId': 0, 'question': 'Email Address'...  \n",
       "2  [{'questionId': 0, 'question': 'Email Address'...  \n",
       "3  [{'questionId': 0, 'question': 'Email Address'...  \n",
       "4  [{'questionId': 0, 'question': 'Email Address'...  \n",
       "\n",
       "[5 rows x 53 columns]"
      ]
     },
     "execution_count": 195,
     "metadata": {},
     "output_type": "execute_result"
    }
   ],
   "source": [
    "df_grants.head()"
   ]
  },
  {
   "cell_type": "code",
   "execution_count": 196,
   "metadata": {},
   "outputs": [
    {
     "data": {
      "text/plain": [
       "0    [DAOstar](https://daostar.org) is the standard...\n",
       "1    # We show you how to manage and monetize your ...\n",
       "2    # Aurellion: Decentralized Shipping Platform\\n...\n",
       "3    beaconcha.in is an open source explorer that p...\n",
       "4    xLog is the best on-chain and open-source blog...\n",
       "Name: metadata.application.project.description, dtype: object"
      ]
     },
     "execution_count": 196,
     "metadata": {},
     "output_type": "execute_result"
    }
   ],
   "source": [
    "df_grants['metadata.application.project.description'].head()"
   ]
  },
  {
   "cell_type": "code",
   "execution_count": 197,
   "metadata": {},
   "outputs": [
    {
     "data": {
      "text/plain": [
       "\"[DAOstar](https://daostar.org) is the standards body of the DAO ecosystem, composed of over 80 key organizations in the space including every major DAO framework, a large number of DAO tooling companies, and many major DAOs. We're the IETF of DAOs.\\n\\nWe authored and maintain [EIP-4824 / DAOIP-2: Common Interfaces for DAOs](https://eips.ethereum.org/EIPS/eip-4824), along with [many other standards](https://github.com/metagov/daostar/tree/main/DAOIPs) already published and in development. You can participate in the [working groups](https://daostar.one/), or start contributing to our [discussion forum](https://github.com/metagov/daostar/discussions).\\n\\nHelp us shape the future of DAOs!\""
      ]
     },
     "execution_count": 197,
     "metadata": {},
     "output_type": "execute_result"
    }
   ],
   "source": [
    "df_grants['metadata.application.project.description'][0]"
   ]
  },
  {
   "cell_type": "code",
   "execution_count": 198,
   "metadata": {},
   "outputs": [],
   "source": [
    "def flesch_kincaid(r):\n",
    "    try:\n",
    "        return r.flesch_kincaid().score\n",
    "    except:\n",
    "        return np.nan\n",
    "\n",
    "def flesch(r):\n",
    "    try:\n",
    "        return r.flesch().score\n",
    "    except:\n",
    "        return np.nan\n",
    "\n",
    "def gunning_fog(r):\n",
    "    try:\n",
    "        return r.gunning_fog().score\n",
    "    except:\n",
    "        return np.nan\n",
    "\n",
    "def coleman_liau(r):\n",
    "    try:\n",
    "        return r.coleman_liau().score\n",
    "    except:\n",
    "        return np.nan\n",
    "\n",
    "def dale_chall(r):\n",
    "    try:\n",
    "        return r.dale_chall().score\n",
    "    except:\n",
    "        return np.nan\n",
    "\n",
    "def ari(r):\n",
    "    try:\n",
    "        return r.ari().score\n",
    "    except:\n",
    "        return np.nan\n",
    "\n",
    "def linsear_write(r):\n",
    "    try:\n",
    "        return r.linsear_write().score\n",
    "    except:\n",
    "        return np.nan\n",
    "\n",
    "def smog(r):\n",
    "    try:\n",
    "        return r.smog().score\n",
    "    except:\n",
    "        return np.nan\n",
    "\n",
    "def spache(r):\n",
    "    try:\n",
    "        return r.spache().score\n",
    "    except:\n",
    "        return np.nan\n"
   ]
  },
  {
   "cell_type": "code",
   "execution_count": 199,
   "metadata": {},
   "outputs": [],
   "source": [
    "def flesch_kincaid_grade(r):\n",
    "    try:\n",
    "        return r.flesch_kincaid().grade_level\n",
    "    except:\n",
    "        return np.nan\n",
    "\n",
    "def flesch_grade(r):\n",
    "    try:\n",
    "        return r.flesch().grade_levels[0]\n",
    "    except:\n",
    "        return np.nan\n",
    "\n",
    "def gunning_fog_grade(r):\n",
    "    try:\n",
    "        return r.gunning_fog().grade_level\n",
    "    except:\n",
    "        return np.nan\n",
    "\n",
    "def coleman_liau_grade(r):\n",
    "    try:\n",
    "        return r.coleman_liau().grade_level\n",
    "    except:\n",
    "        return np.nan\n",
    "\n",
    "def dale_chall_grade(r):\n",
    "    try:\n",
    "        return r.dale_chall().grade_levels[0]\n",
    "    except:\n",
    "        return np.nan\n",
    "\n",
    "def ari_grade(r):\n",
    "    try:\n",
    "        return r.ari().grade_levels[0]\n",
    "    except:\n",
    "        return np.nan\n",
    "\n",
    "def linsear_write_grade(r):\n",
    "    try:\n",
    "        return r.linsear_write().grade_level\n",
    "    except:\n",
    "        return np.nan\n",
    "\n",
    "def smog_grade(r):\n",
    "    try:\n",
    "        return r.smog().grade_levels[0]\n",
    "    except:\n",
    "        return np.nan\n",
    "\n",
    "def spache_grade(r):\n",
    "    try:\n",
    "        return r.spache().grade_level\n",
    "    except:\n",
    "        return np.nan\n"
   ]
  },
  {
   "cell_type": "code",
   "execution_count": 200,
   "metadata": {},
   "outputs": [],
   "source": [
    "df_grants['readability'] = df_grants['metadata.application.project.description'].apply(lambda x: Readability(x))"
   ]
  },
  {
   "cell_type": "code",
   "execution_count": 201,
   "metadata": {},
   "outputs": [],
   "source": [
    "df_grants['flesch_kincaid'] = df_grants['readability'].apply(flesch_kincaid)\n",
    "df_grants['flesch_kincaid_grade'] = df_grants['readability'].apply(flesch_kincaid_grade)\n",
    "df_grants['flesch'] = df_grants['readability'].apply(flesch)\n",
    "df_grants['flesch_grade'] = df_grants['readability'].apply(flesch_grade)\n",
    "df_grants['gunning_fog'] =  df_grants['readability'].apply(gunning_fog)\n",
    "df_grants['gunning_fog_grade'] = df_grants['readability'].apply(gunning_fog_grade)\n",
    "df_grants['coleman_liau'] = df_grants['readability'].apply(coleman_liau)\n",
    "df_grants['coleman_liau_grade'] = df_grants['readability'].apply(coleman_liau_grade)\n",
    "df_grants['dale_chall'] = df_grants['readability'].apply(dale_chall)\n",
    "df_grants['dale_chall_grade'] = df_grants['readability'].apply(dale_chall_grade)\n",
    "df_grants['ari'] = df_grants['readability'].apply(ari)\n",
    "df_grants['ari_grade'] = df_grants['readability'].apply(ari_grade)\n",
    "df_grants['linsear_write'] =   df_grants['readability'].apply(linsear_write)\n",
    "df_grants['linsear_write_grade'] = df_grants['readability'].apply(linsear_write_grade)\n",
    "df_grants['smog'] = df_grants['readability'].apply(smog)\n",
    "df_grants['smog_grade'] = df_grants['readability'].apply(smog_grade)\n",
    "df_grants['spache'] = df_grants['readability'].apply(spache)\n",
    "df_grants['spache_grade'] = df_grants['readability'].apply(spache_grade)"
   ]
  },
  {
   "cell_type": "code",
   "execution_count": 202,
   "metadata": {},
   "outputs": [
    {
     "data": {
      "text/html": [
       "<div>\n",
       "<style scoped>\n",
       "    .dataframe tbody tr th:only-of-type {\n",
       "        vertical-align: middle;\n",
       "    }\n",
       "\n",
       "    .dataframe tbody tr th {\n",
       "        vertical-align: top;\n",
       "    }\n",
       "\n",
       "    .dataframe thead th {\n",
       "        text-align: right;\n",
       "    }\n",
       "</style>\n",
       "<table border=\"1\" class=\"dataframe\">\n",
       "  <thead>\n",
       "    <tr style=\"text-align: right;\">\n",
       "      <th></th>\n",
       "      <th>flesch_kincaid</th>\n",
       "      <th>flesch</th>\n",
       "      <th>gunning_fog</th>\n",
       "      <th>coleman_liau</th>\n",
       "      <th>dale_chall</th>\n",
       "      <th>ari</th>\n",
       "      <th>linsear_write</th>\n",
       "      <th>smog</th>\n",
       "      <th>spache</th>\n",
       "    </tr>\n",
       "  </thead>\n",
       "  <tbody>\n",
       "    <tr>\n",
       "      <th>count</th>\n",
       "      <td>442.000000</td>\n",
       "      <td>442.000000</td>\n",
       "      <td>442.000000</td>\n",
       "      <td>442.000000</td>\n",
       "      <td>442.000000</td>\n",
       "      <td>442.000000</td>\n",
       "      <td>442.000000</td>\n",
       "      <td>137.000000</td>\n",
       "      <td>442.000000</td>\n",
       "    </tr>\n",
       "    <tr>\n",
       "      <th>mean</th>\n",
       "      <td>14.600468</td>\n",
       "      <td>28.593035</td>\n",
       "      <td>15.593877</td>\n",
       "      <td>16.266504</td>\n",
       "      <td>11.769521</td>\n",
       "      <td>16.613712</td>\n",
       "      <td>15.996551</td>\n",
       "      <td>15.135642</td>\n",
       "      <td>8.463739</td>\n",
       "    </tr>\n",
       "    <tr>\n",
       "      <th>std</th>\n",
       "      <td>4.637483</td>\n",
       "      <td>20.087574</td>\n",
       "      <td>4.505073</td>\n",
       "      <td>4.578988</td>\n",
       "      <td>1.504811</td>\n",
       "      <td>6.453097</td>\n",
       "      <td>7.893471</td>\n",
       "      <td>2.176728</td>\n",
       "      <td>1.627571</td>\n",
       "    </tr>\n",
       "    <tr>\n",
       "      <th>min</th>\n",
       "      <td>7.014481</td>\n",
       "      <td>-136.882619</td>\n",
       "      <td>7.029650</td>\n",
       "      <td>7.325664</td>\n",
       "      <td>8.565106</td>\n",
       "      <td>6.417059</td>\n",
       "      <td>4.620690</td>\n",
       "      <td>9.807559</td>\n",
       "      <td>5.531486</td>\n",
       "    </tr>\n",
       "    <tr>\n",
       "      <th>25%</th>\n",
       "      <td>12.008480</td>\n",
       "      <td>19.597089</td>\n",
       "      <td>13.242253</td>\n",
       "      <td>13.514024</td>\n",
       "      <td>10.934288</td>\n",
       "      <td>12.796675</td>\n",
       "      <td>12.220312</td>\n",
       "      <td>13.816670</td>\n",
       "      <td>7.597625</td>\n",
       "    </tr>\n",
       "    <tr>\n",
       "      <th>50%</th>\n",
       "      <td>14.162302</td>\n",
       "      <td>30.827930</td>\n",
       "      <td>14.886973</td>\n",
       "      <td>15.480979</td>\n",
       "      <td>11.598848</td>\n",
       "      <td>15.813371</td>\n",
       "      <td>14.832329</td>\n",
       "      <td>14.975303</td>\n",
       "      <td>8.227665</td>\n",
       "    </tr>\n",
       "    <tr>\n",
       "      <th>75%</th>\n",
       "      <td>16.371964</td>\n",
       "      <td>40.921878</td>\n",
       "      <td>17.569448</td>\n",
       "      <td>18.004985</td>\n",
       "      <td>12.483144</td>\n",
       "      <td>19.364371</td>\n",
       "      <td>18.215127</td>\n",
       "      <td>16.688100</td>\n",
       "      <td>9.058601</td>\n",
       "    </tr>\n",
       "    <tr>\n",
       "      <th>max</th>\n",
       "      <td>61.280952</td>\n",
       "      <td>71.837576</td>\n",
       "      <td>56.225641</td>\n",
       "      <td>40.345489</td>\n",
       "      <td>20.542793</td>\n",
       "      <td>79.892766</td>\n",
       "      <td>101.333333</td>\n",
       "      <td>20.798641</td>\n",
       "      <td>24.704143</td>\n",
       "    </tr>\n",
       "  </tbody>\n",
       "</table>\n",
       "</div>"
      ],
      "text/plain": [
       "       flesch_kincaid      flesch  gunning_fog  coleman_liau  dale_chall   \n",
       "count      442.000000  442.000000   442.000000    442.000000  442.000000  \\\n",
       "mean        14.600468   28.593035    15.593877     16.266504   11.769521   \n",
       "std          4.637483   20.087574     4.505073      4.578988    1.504811   \n",
       "min          7.014481 -136.882619     7.029650      7.325664    8.565106   \n",
       "25%         12.008480   19.597089    13.242253     13.514024   10.934288   \n",
       "50%         14.162302   30.827930    14.886973     15.480979   11.598848   \n",
       "75%         16.371964   40.921878    17.569448     18.004985   12.483144   \n",
       "max         61.280952   71.837576    56.225641     40.345489   20.542793   \n",
       "\n",
       "              ari  linsear_write        smog      spache  \n",
       "count  442.000000     442.000000  137.000000  442.000000  \n",
       "mean    16.613712      15.996551   15.135642    8.463739  \n",
       "std      6.453097       7.893471    2.176728    1.627571  \n",
       "min      6.417059       4.620690    9.807559    5.531486  \n",
       "25%     12.796675      12.220312   13.816670    7.597625  \n",
       "50%     15.813371      14.832329   14.975303    8.227665  \n",
       "75%     19.364371      18.215127   16.688100    9.058601  \n",
       "max     79.892766     101.333333   20.798641   24.704143  "
      ]
     },
     "execution_count": 202,
     "metadata": {},
     "output_type": "execute_result"
    }
   ],
   "source": [
    "scores = ['flesch_kincaid', 'flesch', 'gunning_fog', 'coleman_liau', 'dale_chall', 'ari', 'linsear_write', 'smog', 'spache']\n",
    "grades = ['flesch_kincaid_grade', 'flesch_grade', 'gunning_fog_grade', 'coleman_liau_grade', 'dale_chall_grade', 'ari_grade', 'linsear_write_grade', 'smog_grade', 'spache_grade']\n",
    "df_grants[scores].describe()"
   ]
  },
  {
   "attachments": {},
   "cell_type": "markdown",
   "metadata": {},
   "source": [
    "Lets normalize the readabilty scores"
   ]
  },
  {
   "cell_type": "code",
   "execution_count": 203,
   "metadata": {},
   "outputs": [],
   "source": [
    "from sklearn.preprocessing import StandardScaler\n",
    "scaler = StandardScaler()\n",
    "df_grants[scores] = scaler.fit_transform(df_grants[scores])"
   ]
  },
  {
   "cell_type": "code",
   "execution_count": 204,
   "metadata": {},
   "outputs": [
    {
     "data": {
      "text/plain": [
       "flesch_kincaid_grade     object\n",
       "flesch_grade             object\n",
       "gunning_fog_grade        object\n",
       "coleman_liau_grade       object\n",
       "dale_chall_grade         object\n",
       "ari_grade                object\n",
       "linsear_write_grade      object\n",
       "smog_grade              float64\n",
       "spache_grade             object\n",
       "dtype: object"
      ]
     },
     "execution_count": 204,
     "metadata": {},
     "output_type": "execute_result"
    }
   ],
   "source": [
    "df_grants[grades].dtypes"
   ]
  },
  {
   "cell_type": "code",
   "execution_count": 205,
   "metadata": {},
   "outputs": [
    {
     "data": {
      "text/html": [
       "<div>\n",
       "<style scoped>\n",
       "    .dataframe tbody tr th:only-of-type {\n",
       "        vertical-align: middle;\n",
       "    }\n",
       "\n",
       "    .dataframe tbody tr th {\n",
       "        vertical-align: top;\n",
       "    }\n",
       "\n",
       "    .dataframe thead th {\n",
       "        text-align: right;\n",
       "    }\n",
       "</style>\n",
       "<table border=\"1\" class=\"dataframe\">\n",
       "  <thead>\n",
       "    <tr style=\"text-align: right;\">\n",
       "      <th></th>\n",
       "      <th>smog_grade</th>\n",
       "    </tr>\n",
       "  </thead>\n",
       "  <tbody>\n",
       "    <tr>\n",
       "      <th>count</th>\n",
       "      <td>0.0</td>\n",
       "    </tr>\n",
       "    <tr>\n",
       "      <th>mean</th>\n",
       "      <td>NaN</td>\n",
       "    </tr>\n",
       "    <tr>\n",
       "      <th>std</th>\n",
       "      <td>NaN</td>\n",
       "    </tr>\n",
       "    <tr>\n",
       "      <th>min</th>\n",
       "      <td>NaN</td>\n",
       "    </tr>\n",
       "    <tr>\n",
       "      <th>25%</th>\n",
       "      <td>NaN</td>\n",
       "    </tr>\n",
       "    <tr>\n",
       "      <th>50%</th>\n",
       "      <td>NaN</td>\n",
       "    </tr>\n",
       "    <tr>\n",
       "      <th>75%</th>\n",
       "      <td>NaN</td>\n",
       "    </tr>\n",
       "    <tr>\n",
       "      <th>max</th>\n",
       "      <td>NaN</td>\n",
       "    </tr>\n",
       "  </tbody>\n",
       "</table>\n",
       "</div>"
      ],
      "text/plain": [
       "       smog_grade\n",
       "count         0.0\n",
       "mean          NaN\n",
       "std           NaN\n",
       "min           NaN\n",
       "25%           NaN\n",
       "50%           NaN\n",
       "75%           NaN\n",
       "max           NaN"
      ]
     },
     "execution_count": 205,
     "metadata": {},
     "output_type": "execute_result"
    }
   ],
   "source": [
    "df_grants[grades].describe()"
   ]
  },
  {
   "cell_type": "code",
   "execution_count": 206,
   "metadata": {},
   "outputs": [
    {
     "data": {
      "text/plain": [
       "['flesch_kincaid_grade',\n",
       " 'flesch_grade',\n",
       " 'gunning_fog_grade',\n",
       " 'coleman_liau_grade',\n",
       " 'dale_chall_grade',\n",
       " 'ari_grade',\n",
       " 'linsear_write_grade',\n",
       " 'spache_grade']"
      ]
     },
     "execution_count": 206,
     "metadata": {},
     "output_type": "execute_result"
    }
   ],
   "source": [
    "# remove columns with all null values\n",
    "new_grades = df_grants[grades].columns[df_grants[grades].isnull().sum() != df_grants.shape[0]].to_list()\n",
    "new_grades"
   ]
  },
  {
   "cell_type": "code",
   "execution_count": 207,
   "metadata": {},
   "outputs": [
    {
     "data": {
      "text/html": [
       "<div>\n",
       "<style scoped>\n",
       "    .dataframe tbody tr th:only-of-type {\n",
       "        vertical-align: middle;\n",
       "    }\n",
       "\n",
       "    .dataframe tbody tr th {\n",
       "        vertical-align: top;\n",
       "    }\n",
       "\n",
       "    .dataframe thead th {\n",
       "        text-align: right;\n",
       "    }\n",
       "</style>\n",
       "<table border=\"1\" class=\"dataframe\">\n",
       "  <thead>\n",
       "    <tr style=\"text-align: right;\">\n",
       "      <th></th>\n",
       "      <th>flesch_kincaid_grade</th>\n",
       "      <th>flesch_grade</th>\n",
       "      <th>gunning_fog_grade</th>\n",
       "      <th>coleman_liau_grade</th>\n",
       "      <th>dale_chall_grade</th>\n",
       "      <th>ari_grade</th>\n",
       "      <th>linsear_write_grade</th>\n",
       "      <th>spache_grade</th>\n",
       "    </tr>\n",
       "  </thead>\n",
       "  <tbody>\n",
       "    <tr>\n",
       "      <th>count</th>\n",
       "      <td>442</td>\n",
       "      <td>442</td>\n",
       "      <td>442</td>\n",
       "      <td>442</td>\n",
       "      <td>442</td>\n",
       "      <td>442</td>\n",
       "      <td>442</td>\n",
       "      <td>442</td>\n",
       "    </tr>\n",
       "    <tr>\n",
       "      <th>unique</th>\n",
       "      <td>20</td>\n",
       "      <td>5</td>\n",
       "      <td>8</td>\n",
       "      <td>26</td>\n",
       "      <td>3</td>\n",
       "      <td>8</td>\n",
       "      <td>33</td>\n",
       "      <td>9</td>\n",
       "    </tr>\n",
       "    <tr>\n",
       "      <th>top</th>\n",
       "      <td>15</td>\n",
       "      <td>college_graduate</td>\n",
       "      <td>college</td>\n",
       "      <td>15</td>\n",
       "      <td>college_graduate</td>\n",
       "      <td>college_graduate</td>\n",
       "      <td>13</td>\n",
       "      <td>8</td>\n",
       "    </tr>\n",
       "    <tr>\n",
       "      <th>freq</th>\n",
       "      <td>67</td>\n",
       "      <td>215</td>\n",
       "      <td>209</td>\n",
       "      <td>60</td>\n",
       "      <td>404</td>\n",
       "      <td>326</td>\n",
       "      <td>56</td>\n",
       "      <td>176</td>\n",
       "    </tr>\n",
       "  </tbody>\n",
       "</table>\n",
       "</div>"
      ],
      "text/plain": [
       "       flesch_kincaid_grade      flesch_grade gunning_fog_grade   \n",
       "count                   442               442               442  \\\n",
       "unique                   20                 5                 8   \n",
       "top                      15  college_graduate           college   \n",
       "freq                     67               215               209   \n",
       "\n",
       "       coleman_liau_grade  dale_chall_grade         ari_grade   \n",
       "count                 442               442               442  \\\n",
       "unique                 26                 3                 8   \n",
       "top                    15  college_graduate  college_graduate   \n",
       "freq                   60               404               326   \n",
       "\n",
       "       linsear_write_grade spache_grade  \n",
       "count                  442          442  \n",
       "unique                  33            9  \n",
       "top                     13            8  \n",
       "freq                    56          176  "
      ]
     },
     "execution_count": 207,
     "metadata": {},
     "output_type": "execute_result"
    }
   ],
   "source": [
    "df_grants[new_grades].describe()"
   ]
  },
  {
   "cell_type": "code",
   "execution_count": 208,
   "metadata": {},
   "outputs": [
    {
     "data": {
      "image/png": "[encoded data removed]",
      "text/plain": [
       "<Figure size 640x480 with 1 Axes>"
      ]
     },
     "metadata": {},
     "output_type": "display_data"
    },
    {
     "data": {
      "image/png": "[encoded data removed]",
      "text/plain": [
       "<Figure size 640x480 with 1 Axes>"
      ]
     },
     "metadata": {},
     "output_type": "display_data"
    },
    {
     "data": {
      "image/png": "[encoded data removed]",
      "text/plain": [
       "<Figure size 640x480 with 1 Axes>"
      ]
     },
     "metadata": {},
     "output_type": "display_data"
    },
    {
     "data": {
      "image/png": "[encoded data removed]",
      "text/plain": [
       "<Figure size 640x480 with 1 Axes>"
      ]
     },
     "metadata": {},
     "output_type": "display_data"
    },
    {
     "data": {
      "image/png": "[encoded data removed]",
      "text/plain": [
       "<Figure size 640x480 with 1 Axes>"
      ]
     },
     "metadata": {},
     "output_type": "display_data"
    },
    {
     "data": {
      "image/png": "[encoded data removed]",
      "text/plain": [
       "<Figure size 640x480 with 1 Axes>"
      ]
     },
     "metadata": {},
     "output_type": "display_data"
    },
    {
     "data": {
      "image/png": "[encoded data removed]",
      "text/plain": [
       "<Figure size 640x480 with 1 Axes>"
      ]
     },
     "metadata": {},
     "output_type": "display_data"
    },
    {
     "data": {
      "image/png": "[encoded data removed]",
      "text/plain": [
       "<Figure size 640x480 with 1 Axes>"
      ]
     },
     "metadata": {},
     "output_type": "display_data"
    },
    {
     "data": {
      "image/png": "[encoded data removed]",
      "text/plain": [
       "<Figure size 640x480 with 1 Axes>"
      ]
     },
     "metadata": {},
     "output_type": "display_data"
    }
   ],
   "source": [
    "from matplotlib import pyplot as plt\n",
    "for metric in scores:\n",
    "    plt.figure()\n",
    "    sns.histplot(df_grants[metric].dropna())"
   ]
  },
  {
   "attachments": {},
   "cell_type": "markdown",
   "metadata": {},
   "source": [
    "These metrics have a gaussian distribution thus we try to look at outliers to see which grants are the most difficult to read."
   ]
  },
  {
   "cell_type": "code",
   "execution_count": 209,
   "metadata": {},
   "outputs": [],
   "source": [
    "# for metric in grades:\n",
    "#     plt.figure()\n",
    "#     sns.histplot(df_grants[metric].dropna())"
   ]
  },
  {
   "cell_type": "code",
   "execution_count": null,
   "metadata": {},
   "outputs": [],
   "source": []
  }
 ],
 "metadata": {
  "kernelspec": {
   "display_name": ".venv",
   "language": "python",
   "name": "python3"
  },
  "language_info": {
   "codemirror_mode": {
    "name": "ipython",
    "version": 3
   },
   "file_extension": ".py",
   "mimetype": "text/x-python",
   "name": "python",
   "nbconvert_exporter": "python",
   "pygments_lexer": "ipython3",
   "version": "3.10.9"
  },
  "orig_nbformat": 4
 },
 "nbformat": 4,
 "nbformat_minor": 2
}
