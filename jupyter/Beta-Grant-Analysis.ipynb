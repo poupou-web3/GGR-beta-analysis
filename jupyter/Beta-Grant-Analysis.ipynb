{
 "cells": [
  {
   "attachments": {},
   "cell_type": "markdown",
   "metadata": {},
   "source": [
    "# Beta Grant project analysis\n",
    "\n",
    " This notebook analyzes the beta grant application data by using the description of the project.\n",
    " It goes through all the project descriptions and calculate readability scores as well as originality and AI detection scores.\n",
    "\n",
    " Then boolean are created on various metrics to identify projects that are likely to be fraudulous.\n",
    " There are 5 boolean created:\n",
    "\n",
    " - 'smallDescription': True if the description is less than 100 characters, the readability score can not be computed\n",
    " - 'lowReadability': True if more than 3 metrics are at more than one standard deviation of the mean\n",
    " - 'lowOriginality': True if the originality score is above 0.5\n",
    " - 'highAi': True if the AI score is above 0.5\n",
    " - 'flagged': True if the project is flagged by at least one of the previous booleans\n",
    "\n",
    "Then the projects flaged to-review are analyzed in more details to identify the ones that are likely to be fraudulous.\n",
    "This analysis is separated from this notebook\n"
   ]
  },
  {
   "cell_type": "code",
   "execution_count": 1,
   "metadata": {},
   "outputs": [],
   "source": [
    "# Import needed libraries\n",
    "import sys\n",
    "import pandas as pd\n",
    "import numpy as np\n",
    "import seaborn as sns\n",
    "from pathlib import Path\n",
    "import os\n",
    "import requests\n",
    "from readability import Readability\n",
    "from dotenv import load_dotenv\n",
    "import time"
   ]
  },
  {
   "cell_type": "code",
   "execution_count": 2,
   "metadata": {},
   "outputs": [],
   "source": [
    "# Set path to data folder\n",
    "current_dir = Path(os.getcwd())\n",
    "path_to_data = os.path.join(current_dir.parent.parent, 'data')"
   ]
  },
  {
   "cell_type": "code",
   "execution_count": 3,
   "metadata": {},
   "outputs": [],
   "source": [
    "# Read grants data\n",
    "df_grants = pd.read_csv(os.path.join(path_to_data, 'Beta-applicants-projects.csv'))"
   ]
  },
  {
   "cell_type": "code",
   "execution_count": 4,
   "metadata": {},
   "outputs": [
    {
     "data": {
      "text/plain": [
       "Index(['id', 'projectNumber', 'roundId', 'status', 'amountUSD', 'votes',\n",
       "       'uniqueContributors', 'payoutAddress', 'metadata.signature',\n",
       "       'metadata.application.round', 'metadata.application.recipient',\n",
       "       'metadata.application.project.lastUpdated',\n",
       "       'metadata.application.project.createdAt',\n",
       "       'metadata.application.project.id', 'metadata.application.project.title',\n",
       "       'metadata.application.project.description',\n",
       "       'metadata.application.project.website',\n",
       "       'metadata.application.project.bannerImg',\n",
       "       'metadata.application.project.logoImg',\n",
       "       'metadata.application.project.metaPtr.protocol',\n",
       "       'metadata.application.project.metaPtr.pointer',\n",
       "       'metadata.application.project.userGithub',\n",
       "       'metadata.application.project.projectGithub',\n",
       "       'metadata.application.project.projectTwitter',\n",
       "       'metadata.application.project.credentials.twitter.@context',\n",
       "       'metadata.application.project.credentials.twitter.type',\n",
       "       'metadata.application.project.credentials.twitter.credentialSubject.id',\n",
       "       'metadata.application.project.credentials.twitter.credentialSubject.@context',\n",
       "       'metadata.application.project.credentials.twitter.credentialSubject.provider',\n",
       "       'metadata.application.project.credentials.twitter.credentialSubject.hash',\n",
       "       'metadata.application.project.credentials.twitter.issuer',\n",
       "       'metadata.application.project.credentials.twitter.issuanceDate',\n",
       "       'metadata.application.project.credentials.twitter.proof.type',\n",
       "       'metadata.application.project.credentials.twitter.proof.proofPurpose',\n",
       "       'metadata.application.project.credentials.twitter.proof.verificationMethod',\n",
       "       'metadata.application.project.credentials.twitter.proof.created',\n",
       "       'metadata.application.project.credentials.twitter.proof.jws',\n",
       "       'metadata.application.project.credentials.twitter.expirationDate',\n",
       "       'metadata.application.project.credentials.github.@context',\n",
       "       'metadata.application.project.credentials.github.type',\n",
       "       'metadata.application.project.credentials.github.credentialSubject.id',\n",
       "       'metadata.application.project.credentials.github.credentialSubject.provider',\n",
       "       'metadata.application.project.credentials.github.credentialSubject.hash',\n",
       "       'metadata.application.project.credentials.github.credentialSubject.@context',\n",
       "       'metadata.application.project.credentials.github.issuer',\n",
       "       'metadata.application.project.credentials.github.issuanceDate',\n",
       "       'metadata.application.project.credentials.github.proof.type',\n",
       "       'metadata.application.project.credentials.github.proof.proofPurpose',\n",
       "       'metadata.application.project.credentials.github.proof.verificationMethod',\n",
       "       'metadata.application.project.credentials.github.proof.created',\n",
       "       'metadata.application.project.credentials.github.proof.jws',\n",
       "       'metadata.application.project.credentials.github.expirationDate',\n",
       "       'metadata.application.answers'],\n",
       "      dtype='object')"
      ]
     },
     "execution_count": 4,
     "metadata": {},
     "output_type": "execute_result"
    }
   ],
   "source": [
    "df_grants.columns"
   ]
  },
  {
   "cell_type": "code",
   "execution_count": 5,
   "metadata": {},
   "outputs": [
    {
     "data": {
      "text/plain": [
       "(538, 53)"
      ]
     },
     "execution_count": 5,
     "metadata": {},
     "output_type": "execute_result"
    }
   ],
   "source": [
    "df_grants.shape"
   ]
  },
  {
   "cell_type": "code",
   "execution_count": 6,
   "metadata": {},
   "outputs": [
    {
     "data": {
      "text/html": [
       "<div>\n",
       "<style scoped>\n",
       "    .dataframe tbody tr th:only-of-type {\n",
       "        vertical-align: middle;\n",
       "    }\n",
       "\n",
       "    .dataframe tbody tr th {\n",
       "        vertical-align: top;\n",
       "    }\n",
       "\n",
       "    .dataframe thead th {\n",
       "        text-align: right;\n",
       "    }\n",
       "</style>\n",
       "<table border=\"1\" class=\"dataframe\">\n",
       "  <thead>\n",
       "    <tr style=\"text-align: right;\">\n",
       "      <th></th>\n",
       "      <th>id</th>\n",
       "      <th>projectNumber</th>\n",
       "      <th>roundId</th>\n",
       "      <th>status</th>\n",
       "      <th>amountUSD</th>\n",
       "      <th>votes</th>\n",
       "      <th>uniqueContributors</th>\n",
       "      <th>payoutAddress</th>\n",
       "      <th>metadata.signature</th>\n",
       "      <th>metadata.application.round</th>\n",
       "      <th>...</th>\n",
       "      <th>metadata.application.project.credentials.github.credentialSubject.@context</th>\n",
       "      <th>metadata.application.project.credentials.github.issuer</th>\n",
       "      <th>metadata.application.project.credentials.github.issuanceDate</th>\n",
       "      <th>metadata.application.project.credentials.github.proof.type</th>\n",
       "      <th>metadata.application.project.credentials.github.proof.proofPurpose</th>\n",
       "      <th>metadata.application.project.credentials.github.proof.verificationMethod</th>\n",
       "      <th>metadata.application.project.credentials.github.proof.created</th>\n",
       "      <th>metadata.application.project.credentials.github.proof.jws</th>\n",
       "      <th>metadata.application.project.credentials.github.expirationDate</th>\n",
       "      <th>metadata.application.answers</th>\n",
       "    </tr>\n",
       "  </thead>\n",
       "  <tbody>\n",
       "    <tr>\n",
       "      <th>0</th>\n",
       "      <td>0x6aeb3ddab061203d32594b03901bf458679a66fbeab9...</td>\n",
       "      <td>355.0</td>\n",
       "      <td>0x12BB5bBbFE596dbc489d209299B8302c3300fa40</td>\n",
       "      <td>PENDING</td>\n",
       "      <td>0</td>\n",
       "      <td>0</td>\n",
       "      <td>0</td>\n",
       "      <td>NaN</td>\n",
       "      <td>0x4c3db176694bdfc0f9e4a04738205d562ef31a026699...</td>\n",
       "      <td>0x12bb5bbbfe596dbc489d209299b8302c3300fa40</td>\n",
       "      <td>...</td>\n",
       "      <td>[{'hash': 'https://schema.org/Text', 'provider...</td>\n",
       "      <td>did:key:z6MkghvGHLobLEdj1bgRLhS4LPGJAvbMA1tn2z...</td>\n",
       "      <td>2023-04-12T09:48:40.402Z</td>\n",
       "      <td>Ed25519Signature2018</td>\n",
       "      <td>assertionMethod</td>\n",
       "      <td>did:key:z6MkghvGHLobLEdj1bgRLhS4LPGJAvbMA1tn2z...</td>\n",
       "      <td>2023-04-12T09:48:40.402Z</td>\n",
       "      <td>eyJhbGciOiJFZERTQSIsImNyaXQiOlsiYjY0Il0sImI2NC...</td>\n",
       "      <td>2023-07-11T09:48:40.402Z</td>\n",
       "      <td>[{'questionId': 0, 'question': 'Email Address'...</td>\n",
       "    </tr>\n",
       "    <tr>\n",
       "      <th>1</th>\n",
       "      <td>0xdeffc2d190ddec88d06ba86e1eb09abe5a9ccb49ab1d...</td>\n",
       "      <td>174.0</td>\n",
       "      <td>0x12BB5bBbFE596dbc489d209299B8302c3300fa40</td>\n",
       "      <td>PENDING</td>\n",
       "      <td>0</td>\n",
       "      <td>0</td>\n",
       "      <td>0</td>\n",
       "      <td>NaN</td>\n",
       "      <td>0xc9f5e29fcb4db0b0c9a5909f68c162ea5d16a275f705...</td>\n",
       "      <td>0x12bb5bbbfe596dbc489d209299b8302c3300fa40</td>\n",
       "      <td>...</td>\n",
       "      <td>[{'hash': 'https://schema.org/Text', 'provider...</td>\n",
       "      <td>did:key:z6MkghvGHLobLEdj1bgRLhS4LPGJAvbMA1tn2z...</td>\n",
       "      <td>2023-01-13T08:12:23.363Z</td>\n",
       "      <td>Ed25519Signature2018</td>\n",
       "      <td>assertionMethod</td>\n",
       "      <td>did:key:z6MkghvGHLobLEdj1bgRLhS4LPGJAvbMA1tn2z...</td>\n",
       "      <td>2023-01-13T08:12:23.363Z</td>\n",
       "      <td>eyJhbGciOiJFZERTQSIsImNyaXQiOlsiYjY0Il0sImI2NC...</td>\n",
       "      <td>2023-04-13T08:12:23.363Z</td>\n",
       "      <td>[{'questionId': 0, 'question': 'Email Address'...</td>\n",
       "    </tr>\n",
       "  </tbody>\n",
       "</table>\n",
       "<p>2 rows × 53 columns</p>\n",
       "</div>"
      ],
      "text/plain": [
       "                                                  id  projectNumber   \n",
       "0  0x6aeb3ddab061203d32594b03901bf458679a66fbeab9...          355.0  \\\n",
       "1  0xdeffc2d190ddec88d06ba86e1eb09abe5a9ccb49ab1d...          174.0   \n",
       "\n",
       "                                      roundId   status  amountUSD  votes   \n",
       "0  0x12BB5bBbFE596dbc489d209299B8302c3300fa40  PENDING          0      0  \\\n",
       "1  0x12BB5bBbFE596dbc489d209299B8302c3300fa40  PENDING          0      0   \n",
       "\n",
       "   uniqueContributors  payoutAddress   \n",
       "0                   0            NaN  \\\n",
       "1                   0            NaN   \n",
       "\n",
       "                                  metadata.signature   \n",
       "0  0x4c3db176694bdfc0f9e4a04738205d562ef31a026699...  \\\n",
       "1  0xc9f5e29fcb4db0b0c9a5909f68c162ea5d16a275f705...   \n",
       "\n",
       "                   metadata.application.round  ...   \n",
       "0  0x12bb5bbbfe596dbc489d209299b8302c3300fa40  ...  \\\n",
       "1  0x12bb5bbbfe596dbc489d209299b8302c3300fa40  ...   \n",
       "\n",
       "  metadata.application.project.credentials.github.credentialSubject.@context   \n",
       "0  [{'hash': 'https://schema.org/Text', 'provider...                          \\\n",
       "1  [{'hash': 'https://schema.org/Text', 'provider...                           \n",
       "\n",
       "  metadata.application.project.credentials.github.issuer   \n",
       "0  did:key:z6MkghvGHLobLEdj1bgRLhS4LPGJAvbMA1tn2z...      \\\n",
       "1  did:key:z6MkghvGHLobLEdj1bgRLhS4LPGJAvbMA1tn2z...       \n",
       "\n",
       "   metadata.application.project.credentials.github.issuanceDate   \n",
       "0                           2023-04-12T09:48:40.402Z             \\\n",
       "1                           2023-01-13T08:12:23.363Z              \n",
       "\n",
       "  metadata.application.project.credentials.github.proof.type   \n",
       "0                               Ed25519Signature2018          \\\n",
       "1                               Ed25519Signature2018           \n",
       "\n",
       "  metadata.application.project.credentials.github.proof.proofPurpose   \n",
       "0                                    assertionMethod                  \\\n",
       "1                                    assertionMethod                   \n",
       "\n",
       "  metadata.application.project.credentials.github.proof.verificationMethod   \n",
       "0  did:key:z6MkghvGHLobLEdj1bgRLhS4LPGJAvbMA1tn2z...                        \\\n",
       "1  did:key:z6MkghvGHLobLEdj1bgRLhS4LPGJAvbMA1tn2z...                         \n",
       "\n",
       "  metadata.application.project.credentials.github.proof.created   \n",
       "0                           2023-04-12T09:48:40.402Z             \\\n",
       "1                           2023-01-13T08:12:23.363Z              \n",
       "\n",
       "  metadata.application.project.credentials.github.proof.jws   \n",
       "0  eyJhbGciOiJFZERTQSIsImNyaXQiOlsiYjY0Il0sImI2NC...         \\\n",
       "1  eyJhbGciOiJFZERTQSIsImNyaXQiOlsiYjY0Il0sImI2NC...          \n",
       "\n",
       "  metadata.application.project.credentials.github.expirationDate   \n",
       "0                           2023-07-11T09:48:40.402Z              \\\n",
       "1                           2023-04-13T08:12:23.363Z               \n",
       "\n",
       "                        metadata.application.answers  \n",
       "0  [{'questionId': 0, 'question': 'Email Address'...  \n",
       "1  [{'questionId': 0, 'question': 'Email Address'...  \n",
       "\n",
       "[2 rows x 53 columns]"
      ]
     },
     "execution_count": 6,
     "metadata": {},
     "output_type": "execute_result"
    }
   ],
   "source": [
    "df_grants.head(2)"
   ]
  },
  {
   "cell_type": "code",
   "execution_count": 7,
   "metadata": {},
   "outputs": [
    {
     "data": {
      "text/plain": [
       "0    [DAOstar](https://daostar.org) is the standard...\n",
       "1    # We show you how to manage and monetize your ...\n",
       "2    # Aurellion: Decentralized Shipping Platform\\n...\n",
       "3    beaconcha.in is an open source explorer that p...\n",
       "4    xLog is the best on-chain and open-source blog...\n",
       "Name: metadata.application.project.description, dtype: object"
      ]
     },
     "execution_count": 7,
     "metadata": {},
     "output_type": "execute_result"
    }
   ],
   "source": [
    "df_grants['metadata.application.project.description'].head()"
   ]
  },
  {
   "cell_type": "code",
   "execution_count": 8,
   "metadata": {},
   "outputs": [],
   "source": [
    "# Load all rounds data\n",
    "df_rounds = pd.read_csv(os.path.join(path_to_data, 'all-rounds.csv'))"
   ]
  },
  {
   "cell_type": "code",
   "execution_count": 9,
   "metadata": {},
   "outputs": [],
   "source": [
    "def merge_drop_duplicates(df_rounds, df_grant, cols_to_keep):\n",
    "    # merge grants and rounds data frames\n",
    "    # Then drop  (participating in multiples rounds) and gather the round names in a list column 'Round Name'\n",
    "    # and count the number of rounds the project applied to; new column 'numRounds'\n",
    "    df = df_rounds.merge(df_grant, left_on='Round ID', right_on='roundId')[cols_to_keep]\n",
    "    agg_rounds = pd.DataFrame(df.groupby('metadata.application.project.title')['Round name'].unique()).reset_index()\n",
    "    df.drop('Round name', axis=1, inplace=True)\n",
    "    df = df.merge(agg_rounds, on='metadata.application.project.title')\n",
    "    df.drop_duplicates(subset=['metadata.application.project.title'], inplace=True)\n",
    "    #sort by round name\n",
    "    df.sort_values(by=['roundId'], inplace=True)\n",
    "    df['numRounds'] = df['Round name'].apply(lambda x: len(x))\n",
    "    df.drop('Total projects', axis=1, inplace=True)\n",
    "    return df"
   ]
  },
  {
   "cell_type": "code",
   "execution_count": 10,
   "metadata": {},
   "outputs": [
    {
     "data": {
      "text/plain": [
       "(538, 53)"
      ]
     },
     "execution_count": 10,
     "metadata": {},
     "output_type": "execute_result"
    }
   ],
   "source": [
    "df_grants.shape"
   ]
  },
  {
   "cell_type": "code",
   "execution_count": 11,
   "metadata": {},
   "outputs": [],
   "source": [
    "cols_to_keep = df_grants.columns.to_list() + df_rounds.columns.to_list()\n",
    "df_grants = merge_drop_duplicates(df_rounds, df_grants, cols_to_keep=cols_to_keep)"
   ]
  },
  {
   "cell_type": "code",
   "execution_count": 12,
   "metadata": {},
   "outputs": [
    {
     "data": {
      "text/plain": [
       "(426, 56)"
      ]
     },
     "execution_count": 12,
     "metadata": {},
     "output_type": "execute_result"
    }
   ],
   "source": [
    "df_grants.shape"
   ]
  },
  {
   "cell_type": "code",
   "execution_count": 13,
   "metadata": {},
   "outputs": [
    {
     "name": "stdout",
     "output_type": "stream",
     "text": [
      "426 unique projects applied to the beta rounds\n"
     ]
    }
   ],
   "source": [
    "print(f'{df_grants.shape[0]} unique projects applied to the beta rounds')"
   ]
  },
  {
   "attachments": {},
   "cell_type": "markdown",
   "metadata": {},
   "source": [
    "Create readabiliy functions to prevent unintended eror from librairy readability. A NaN is returned if the text is too short to be analyzed(majority of cases of error)\n",
    "Description of these metrics can be found in the readme.md file"
   ]
  },
  {
   "cell_type": "code",
   "execution_count": 14,
   "metadata": {},
   "outputs": [],
   "source": [
    "def flesch_kincaid(r):\n",
    "    try:\n",
    "        return r.flesch_kincaid().score\n",
    "    except:\n",
    "        return np.nan\n",
    "\n",
    "def flesch(r):\n",
    "    try:\n",
    "        return r.flesch().score\n",
    "    except:\n",
    "        return np.nan\n",
    "\n",
    "def gunning_fog(r):\n",
    "    try:\n",
    "        return r.gunning_fog().score\n",
    "    except:\n",
    "        return np.nan\n",
    "\n",
    "def coleman_liau(r):\n",
    "    try:\n",
    "        return r.coleman_liau().score\n",
    "    except:\n",
    "        return np.nan\n",
    "\n",
    "def dale_chall(r):\n",
    "    try:\n",
    "        return r.dale_chall().score\n",
    "    except:\n",
    "        return np.nan\n",
    "\n",
    "def ari(r):\n",
    "    try:\n",
    "        return r.ari().score\n",
    "    except:\n",
    "        return np.nan\n",
    "\n",
    "def linsear_write(r):\n",
    "    try:\n",
    "        return r.linsear_write().score\n",
    "    except:\n",
    "        return np.nan\n",
    "\n",
    "def smog(r):\n",
    "    try:\n",
    "        return r.smog().score\n",
    "    except:\n",
    "        return np.nan\n",
    "\n",
    "def spache(r):\n",
    "    try:\n",
    "        return r.spache().score\n",
    "    except:\n",
    "        return np.nan\n"
   ]
  },
  {
   "cell_type": "code",
   "execution_count": 15,
   "metadata": {},
   "outputs": [],
   "source": [
    "df_grants['readability'] = df_grants['metadata.application.project.description'].apply(lambda x: Readability(x))\n",
    "\n",
    "df_grants['flesch_kincaid'] = df_grants['readability'].apply(flesch_kincaid)\n",
    "df_grants['flesch'] = df_grants['readability'].apply(flesch)\n",
    "df_grants['gunning_fog'] =  df_grants['readability'].apply(gunning_fog)\n",
    "df_grants['coleman_liau'] = df_grants['readability'].apply(coleman_liau)\n",
    "df_grants['dale_chall'] = df_grants['readability'].apply(dale_chall)\n",
    "df_grants['ari'] = df_grants['readability'].apply(ari)\n",
    "df_grants['linsear_write'] =   df_grants['readability'].apply(linsear_write)\n",
    "df_grants['smog'] = df_grants['readability'].apply(smog)\n",
    "df_grants['spache'] = df_grants['readability'].apply(spache)"
   ]
  },
  {
   "cell_type": "code",
   "execution_count": 16,
   "metadata": {},
   "outputs": [
    {
     "data": {
      "text/html": [
       "<div>\n",
       "<style scoped>\n",
       "    .dataframe tbody tr th:only-of-type {\n",
       "        vertical-align: middle;\n",
       "    }\n",
       "\n",
       "    .dataframe tbody tr th {\n",
       "        vertical-align: top;\n",
       "    }\n",
       "\n",
       "    .dataframe thead th {\n",
       "        text-align: right;\n",
       "    }\n",
       "</style>\n",
       "<table border=\"1\" class=\"dataframe\">\n",
       "  <thead>\n",
       "    <tr style=\"text-align: right;\">\n",
       "      <th></th>\n",
       "      <th>flesch_kincaid</th>\n",
       "      <th>flesch</th>\n",
       "      <th>gunning_fog</th>\n",
       "      <th>coleman_liau</th>\n",
       "      <th>dale_chall</th>\n",
       "      <th>ari</th>\n",
       "      <th>linsear_write</th>\n",
       "      <th>smog</th>\n",
       "      <th>spache</th>\n",
       "    </tr>\n",
       "  </thead>\n",
       "  <tbody>\n",
       "    <tr>\n",
       "      <th>count</th>\n",
       "      <td>343.000000</td>\n",
       "      <td>343.000000</td>\n",
       "      <td>343.000000</td>\n",
       "      <td>343.000000</td>\n",
       "      <td>343.000000</td>\n",
       "      <td>343.000000</td>\n",
       "      <td>343.000000</td>\n",
       "      <td>94.000000</td>\n",
       "      <td>343.000000</td>\n",
       "    </tr>\n",
       "    <tr>\n",
       "      <th>mean</th>\n",
       "      <td>14.470951</td>\n",
       "      <td>29.717575</td>\n",
       "      <td>15.647387</td>\n",
       "      <td>15.756035</td>\n",
       "      <td>11.652825</td>\n",
       "      <td>16.244507</td>\n",
       "      <td>16.054388</td>\n",
       "      <td>15.332871</td>\n",
       "      <td>8.405843</td>\n",
       "    </tr>\n",
       "    <tr>\n",
       "      <th>std</th>\n",
       "      <td>4.336349</td>\n",
       "      <td>19.450052</td>\n",
       "      <td>4.211656</td>\n",
       "      <td>4.298309</td>\n",
       "      <td>1.527509</td>\n",
       "      <td>5.932009</td>\n",
       "      <td>7.137230</td>\n",
       "      <td>2.216299</td>\n",
       "      <td>1.529918</td>\n",
       "    </tr>\n",
       "    <tr>\n",
       "      <th>min</th>\n",
       "      <td>7.014481</td>\n",
       "      <td>-136.882619</td>\n",
       "      <td>7.029650</td>\n",
       "      <td>7.325664</td>\n",
       "      <td>8.565106</td>\n",
       "      <td>6.417059</td>\n",
       "      <td>4.620690</td>\n",
       "      <td>9.807559</td>\n",
       "      <td>5.531486</td>\n",
       "    </tr>\n",
       "    <tr>\n",
       "      <th>25%</th>\n",
       "      <td>11.868035</td>\n",
       "      <td>19.989836</td>\n",
       "      <td>13.273461</td>\n",
       "      <td>12.980971</td>\n",
       "      <td>10.756765</td>\n",
       "      <td>12.743224</td>\n",
       "      <td>12.463294</td>\n",
       "      <td>13.993250</td>\n",
       "      <td>7.456925</td>\n",
       "    </tr>\n",
       "    <tr>\n",
       "      <th>50%</th>\n",
       "      <td>14.011333</td>\n",
       "      <td>31.858776</td>\n",
       "      <td>14.991420</td>\n",
       "      <td>15.067345</td>\n",
       "      <td>11.537651</td>\n",
       "      <td>15.461584</td>\n",
       "      <td>14.952381</td>\n",
       "      <td>15.112172</td>\n",
       "      <td>8.168254</td>\n",
       "    </tr>\n",
       "    <tr>\n",
       "      <th>75%</th>\n",
       "      <td>16.364653</td>\n",
       "      <td>42.669877</td>\n",
       "      <td>17.633418</td>\n",
       "      <td>17.576227</td>\n",
       "      <td>12.406057</td>\n",
       "      <td>18.979645</td>\n",
       "      <td>18.242647</td>\n",
       "      <td>16.847623</td>\n",
       "      <td>9.064913</td>\n",
       "    </tr>\n",
       "    <tr>\n",
       "      <th>max</th>\n",
       "      <td>61.280952</td>\n",
       "      <td>71.837576</td>\n",
       "      <td>56.225641</td>\n",
       "      <td>40.345489</td>\n",
       "      <td>20.542793</td>\n",
       "      <td>79.892766</td>\n",
       "      <td>101.333333</td>\n",
       "      <td>20.798641</td>\n",
       "      <td>24.704143</td>\n",
       "    </tr>\n",
       "  </tbody>\n",
       "</table>\n",
       "</div>"
      ],
      "text/plain": [
       "       flesch_kincaid      flesch  gunning_fog  coleman_liau  dale_chall   \n",
       "count      343.000000  343.000000   343.000000    343.000000  343.000000  \\\n",
       "mean        14.470951   29.717575    15.647387     15.756035   11.652825   \n",
       "std          4.336349   19.450052     4.211656      4.298309    1.527509   \n",
       "min          7.014481 -136.882619     7.029650      7.325664    8.565106   \n",
       "25%         11.868035   19.989836    13.273461     12.980971   10.756765   \n",
       "50%         14.011333   31.858776    14.991420     15.067345   11.537651   \n",
       "75%         16.364653   42.669877    17.633418     17.576227   12.406057   \n",
       "max         61.280952   71.837576    56.225641     40.345489   20.542793   \n",
       "\n",
       "              ari  linsear_write       smog      spache  \n",
       "count  343.000000     343.000000  94.000000  343.000000  \n",
       "mean    16.244507      16.054388  15.332871    8.405843  \n",
       "std      5.932009       7.137230   2.216299    1.529918  \n",
       "min      6.417059       4.620690   9.807559    5.531486  \n",
       "25%     12.743224      12.463294  13.993250    7.456925  \n",
       "50%     15.461584      14.952381  15.112172    8.168254  \n",
       "75%     18.979645      18.242647  16.847623    9.064913  \n",
       "max     79.892766     101.333333  20.798641   24.704143  "
      ]
     },
     "execution_count": 16,
     "metadata": {},
     "output_type": "execute_result"
    }
   ],
   "source": [
    "scores = ['flesch_kincaid', 'flesch', 'gunning_fog', 'coleman_liau', 'dale_chall', 'ari', 'linsear_write', 'smog', 'spache']\n",
    "df_grants[scores].describe()"
   ]
  },
  {
   "attachments": {},
   "cell_type": "markdown",
   "metadata": {},
   "source": [
    "Lets normalize the readabilty scores"
   ]
  },
  {
   "cell_type": "code",
   "execution_count": 17,
   "metadata": {},
   "outputs": [],
   "source": [
    "from sklearn.preprocessing import StandardScaler\n",
    "scaler = StandardScaler()\n",
    "df_grants[scores] = scaler.fit_transform(df_grants[scores])"
   ]
  },
  {
   "cell_type": "code",
   "execution_count": 18,
   "metadata": {},
   "outputs": [
    {
     "data": {
      "text/html": [
       "<div>\n",
       "<style scoped>\n",
       "    .dataframe tbody tr th:only-of-type {\n",
       "        vertical-align: middle;\n",
       "    }\n",
       "\n",
       "    .dataframe tbody tr th {\n",
       "        vertical-align: top;\n",
       "    }\n",
       "\n",
       "    .dataframe thead th {\n",
       "        text-align: right;\n",
       "    }\n",
       "</style>\n",
       "<table border=\"1\" class=\"dataframe\">\n",
       "  <thead>\n",
       "    <tr style=\"text-align: right;\">\n",
       "      <th></th>\n",
       "      <th>flesch_kincaid</th>\n",
       "      <th>flesch</th>\n",
       "      <th>gunning_fog</th>\n",
       "      <th>coleman_liau</th>\n",
       "      <th>dale_chall</th>\n",
       "      <th>ari</th>\n",
       "      <th>linsear_write</th>\n",
       "      <th>smog</th>\n",
       "      <th>spache</th>\n",
       "    </tr>\n",
       "  </thead>\n",
       "  <tbody>\n",
       "    <tr>\n",
       "      <th>count</th>\n",
       "      <td>3.430000e+02</td>\n",
       "      <td>3.430000e+02</td>\n",
       "      <td>3.430000e+02</td>\n",
       "      <td>3.430000e+02</td>\n",
       "      <td>3.430000e+02</td>\n",
       "      <td>3.430000e+02</td>\n",
       "      <td>3.430000e+02</td>\n",
       "      <td>9.400000e+01</td>\n",
       "      <td>3.430000e+02</td>\n",
       "    </tr>\n",
       "    <tr>\n",
       "      <th>mean</th>\n",
       "      <td>-1.864398e-16</td>\n",
       "      <td>1.696084e-16</td>\n",
       "      <td>1.450087e-16</td>\n",
       "      <td>8.804101e-17</td>\n",
       "      <td>3.107330e-16</td>\n",
       "      <td>-4.557417e-16</td>\n",
       "      <td>3.003752e-16</td>\n",
       "      <td>-6.614095e-17</td>\n",
       "      <td>-1.864398e-16</td>\n",
       "    </tr>\n",
       "    <tr>\n",
       "      <th>std</th>\n",
       "      <td>1.001461e+00</td>\n",
       "      <td>1.001461e+00</td>\n",
       "      <td>1.001461e+00</td>\n",
       "      <td>1.001461e+00</td>\n",
       "      <td>1.001461e+00</td>\n",
       "      <td>1.001461e+00</td>\n",
       "      <td>1.001461e+00</td>\n",
       "      <td>1.005362e+00</td>\n",
       "      <td>1.001461e+00</td>\n",
       "    </tr>\n",
       "    <tr>\n",
       "      <th>min</th>\n",
       "      <td>-1.722039e+00</td>\n",
       "      <td>-8.578053e+00</td>\n",
       "      <td>-2.049153e+00</td>\n",
       "      <td>-1.964188e+00</td>\n",
       "      <td>-2.024361e+00</td>\n",
       "      <td>-1.659101e+00</td>\n",
       "      <td>-1.604320e+00</td>\n",
       "      <td>-2.506403e+00</td>\n",
       "      <td>-1.881509e+00</td>\n",
       "    </tr>\n",
       "    <tr>\n",
       "      <th>25%</th>\n",
       "      <td>-6.011321e-01</td>\n",
       "      <td>-5.008702e-01</td>\n",
       "      <td>-5.644797e-01</td>\n",
       "      <td>-6.465610e-01</td>\n",
       "      <td>-5.874718e-01</td>\n",
       "      <td>-5.910980e-01</td>\n",
       "      <td>-5.038846e-01</td>\n",
       "      <td>-6.076819e-01</td>\n",
       "      <td>-6.211469e-01</td>\n",
       "    </tr>\n",
       "    <tr>\n",
       "      <th>50%</th>\n",
       "      <td>-1.061467e-01</td>\n",
       "      <td>1.102479e-01</td>\n",
       "      <td>-1.559779e-01</td>\n",
       "      <td>-1.604575e-01</td>\n",
       "      <td>-7.550965e-02</td>\n",
       "      <td>-1.321756e-01</td>\n",
       "      <td>-1.546281e-01</td>\n",
       "      <td>-1.001142e-01</td>\n",
       "      <td>-1.555220e-01</td>\n",
       "    </tr>\n",
       "    <tr>\n",
       "      <th>75%</th>\n",
       "      <td>4.373423e-01</td>\n",
       "      <td>6.668992e-01</td>\n",
       "      <td>4.722448e-01</td>\n",
       "      <td>4.240856e-01</td>\n",
       "      <td>4.938318e-01</td>\n",
       "      <td>4.617549e-01</td>\n",
       "      <td>3.070458e-01</td>\n",
       "      <td>6.871248e-01</td>\n",
       "      <td>4.314168e-01</td>\n",
       "    </tr>\n",
       "    <tr>\n",
       "      <th>max</th>\n",
       "      <td>1.081057e+01</td>\n",
       "      <td>2.168711e+00</td>\n",
       "      <td>9.648827e+00</td>\n",
       "      <td>5.729085e+00</td>\n",
       "      <td>5.828413e+00</td>\n",
       "      <td>1.074530e+01</td>\n",
       "      <td>1.196592e+01</td>\n",
       "      <td>2.479393e+00</td>\n",
       "      <td>1.066862e+01</td>\n",
       "    </tr>\n",
       "  </tbody>\n",
       "</table>\n",
       "</div>"
      ],
      "text/plain": [
       "       flesch_kincaid        flesch   gunning_fog  coleman_liau    dale_chall   \n",
       "count    3.430000e+02  3.430000e+02  3.430000e+02  3.430000e+02  3.430000e+02  \\\n",
       "mean    -1.864398e-16  1.696084e-16  1.450087e-16  8.804101e-17  3.107330e-16   \n",
       "std      1.001461e+00  1.001461e+00  1.001461e+00  1.001461e+00  1.001461e+00   \n",
       "min     -1.722039e+00 -8.578053e+00 -2.049153e+00 -1.964188e+00 -2.024361e+00   \n",
       "25%     -6.011321e-01 -5.008702e-01 -5.644797e-01 -6.465610e-01 -5.874718e-01   \n",
       "50%     -1.061467e-01  1.102479e-01 -1.559779e-01 -1.604575e-01 -7.550965e-02   \n",
       "75%      4.373423e-01  6.668992e-01  4.722448e-01  4.240856e-01  4.938318e-01   \n",
       "max      1.081057e+01  2.168711e+00  9.648827e+00  5.729085e+00  5.828413e+00   \n",
       "\n",
       "                ari  linsear_write          smog        spache  \n",
       "count  3.430000e+02   3.430000e+02  9.400000e+01  3.430000e+02  \n",
       "mean  -4.557417e-16   3.003752e-16 -6.614095e-17 -1.864398e-16  \n",
       "std    1.001461e+00   1.001461e+00  1.005362e+00  1.001461e+00  \n",
       "min   -1.659101e+00  -1.604320e+00 -2.506403e+00 -1.881509e+00  \n",
       "25%   -5.910980e-01  -5.038846e-01 -6.076819e-01 -6.211469e-01  \n",
       "50%   -1.321756e-01  -1.546281e-01 -1.001142e-01 -1.555220e-01  \n",
       "75%    4.617549e-01   3.070458e-01  6.871248e-01  4.314168e-01  \n",
       "max    1.074530e+01   1.196592e+01  2.479393e+00  1.066862e+01  "
      ]
     },
     "execution_count": 18,
     "metadata": {},
     "output_type": "execute_result"
    }
   ],
   "source": [
    "# verify the scaling\n",
    "df_grants[scores].describe()"
   ]
  },
  {
   "cell_type": "code",
   "execution_count": 19,
   "metadata": {},
   "outputs": [
    {
     "data": {
      "image/png": "[encoded data removed]",
      "text/plain": [
       "<Figure size 640x480 with 1 Axes>"
      ]
     },
     "metadata": {},
     "output_type": "display_data"
    },
    {
     "data": {
      "image/png": "[encoded data removed]",
      "text/plain": [
       "<Figure size 640x480 with 1 Axes>"
      ]
     },
     "metadata": {},
     "output_type": "display_data"
    },
    {
     "data": {
      "image/png": "[encoded data removed]",
      "text/plain": [
       "<Figure size 640x480 with 1 Axes>"
      ]
     },
     "metadata": {},
     "output_type": "display_data"
    },
    {
     "data": {
      "image/png": "[encoded data removed]",
      "text/plain": [
       "<Figure size 640x480 with 1 Axes>"
      ]
     },
     "metadata": {},
     "output_type": "display_data"
    },
    {
     "data": {
      "image/png": "[encoded data removed]",
      "text/plain": [
       "<Figure size 640x480 with 1 Axes>"
      ]
     },
     "metadata": {},
     "output_type": "display_data"
    },
    {
     "data": {
      "image/png": "[encoded data removed]",
      "text/plain": [
       "<Figure size 640x480 with 1 Axes>"
      ]
     },
     "metadata": {},
     "output_type": "display_data"
    },
    {
     "data": {
      "image/png": "[encoded data removed]",
      "text/plain": [
       "<Figure size 640x480 with 1 Axes>"
      ]
     },
     "metadata": {},
     "output_type": "display_data"
    },
    {
     "data": {
      "image/png": "[encoded data removed]",
      "text/plain": [
       "<Figure size 640x480 with 1 Axes>"
      ]
     },
     "metadata": {},
     "output_type": "display_data"
    },
    {
     "data": {
      "image/png": "[encoded data removed]",
      "text/plain": [
       "<Figure size 640x480 with 1 Axes>"
      ]
     },
     "metadata": {},
     "output_type": "display_data"
    }
   ],
   "source": [
    "from matplotlib import pyplot as plt\n",
    "for metric in scores:\n",
    "    plt.figure()\n",
    "    sns.histplot(df_grants[metric].dropna())"
   ]
  },
  {
   "attachments": {},
   "cell_type": "markdown",
   "metadata": {},
   "source": [
    "These metrics have a gaussian distribution thus we try to look at outliers to see which grants are the most difficult to read."
   ]
  },
  {
   "cell_type": "code",
   "execution_count": 20,
   "metadata": {},
   "outputs": [
    {
     "data": {
      "text/plain": [
       "flesch_kincaid     83\n",
       "flesch             83\n",
       "gunning_fog        83\n",
       "coleman_liau       83\n",
       "dale_chall         83\n",
       "ari                83\n",
       "linsear_write      83\n",
       "smog              332\n",
       "spache             83\n",
       "dtype: int64"
      ]
     },
     "execution_count": 20,
     "metadata": {},
     "output_type": "execute_result"
    }
   ],
   "source": [
    "df_grants[scores].isna().sum()"
   ]
  },
  {
   "cell_type": "code",
   "execution_count": 21,
   "metadata": {},
   "outputs": [
    {
     "data": {
      "text/plain": [
       "83"
      ]
     },
     "execution_count": 21,
     "metadata": {},
     "output_type": "execute_result"
    }
   ],
   "source": [
    "df_grants['flesch'].isna().sum()"
   ]
  },
  {
   "cell_type": "code",
   "execution_count": 22,
   "metadata": {},
   "outputs": [
    {
     "name": "stdout",
     "output_type": "stream",
     "text": [
      "Number of projects with no readability scores: 83 because of a small decription less then 100 characters\n",
      "Number of projects with no smog scores: 332 because of a less then 30 sentences in the description\n"
     ]
    }
   ],
   "source": [
    "print(f'Number of projects with no readability scores: {df_grants.flesch.isna().sum()} because of a small decription less then 100 characters')\n",
    "print(f'Number of projects with no smog scores: {df_grants.smog.isna().sum()} because of a less then 30 sentences in the description')"
   ]
  },
  {
   "attachments": {},
   "cell_type": "markdown",
   "metadata": {},
   "source": [
    "Because to many projects have less than 30 sentences, we will not take into account the number of sentences in the description"
   ]
  },
  {
   "attachments": {},
   "cell_type": "markdown",
   "metadata": {},
   "source": [
    "By extracting the grants where the readability score can not be computed there are already 96 grants to review."
   ]
  },
  {
   "cell_type": "code",
   "execution_count": 23,
   "metadata": {},
   "outputs": [
    {
     "data": {
      "text/plain": [
       "332"
      ]
     },
     "execution_count": 23,
     "metadata": {},
     "output_type": "execute_result"
    }
   ],
   "source": [
    "df_grants.smog.isna().sum()"
   ]
  },
  {
   "cell_type": "code",
   "execution_count": 24,
   "metadata": {},
   "outputs": [],
   "source": [
    "# add a colum smallDescription\n",
    "df_grants['smallDescription'] = True\n",
    "df_grants['smallDescription'] = df_grants[scores].isna().sum(axis=1) > 1"
   ]
  },
  {
   "attachments": {},
   "cell_type": "markdown",
   "metadata": {},
   "source": [
    "Lets investigate outliers that have readability values\n",
    "6 sigma or more away from the mean is often considered to be outliers where sigma is the standard deviation."
   ]
  },
  {
   "attachments": {},
   "cell_type": "markdown",
   "metadata": {},
   "source": [
    "Compute 6 sigma for each metric and extract grants with values outside 6 sigma\n",
    "After trying only two grants where above 6 sigma for one metric, I decided to use 5 sigma instead"
   ]
  },
  {
   "cell_type": "code",
   "execution_count": 25,
   "metadata": {},
   "outputs": [
    {
     "name": "stdout",
     "output_type": "stream",
     "text": [
      "Number of projects with at least one score 6 sigma away from the mean: 1\n",
      "Number of projects with at least one score 5 sigma away from the mean: 5\n"
     ]
    }
   ],
   "source": [
    "n_6_sigma = df_grants[(df_grants[scores].abs() > 6).sum(axis=1) > 0].shape[0]\n",
    "n_5_sigma = df_grants[(df_grants[scores].abs() > 5).sum(axis=1) > 0].shape[0]\n",
    "print(f'Number of projects with at least one score 6 sigma away from the mean: {n_6_sigma}')\n",
    "print(f'Number of projects with at least one score 5 sigma away from the mean: {n_5_sigma}')\n"
   ]
  },
  {
   "attachments": {},
   "cell_type": "markdown",
   "metadata": {},
   "source": [
    "After reviewing these projects manually I decided to use another formula to detect outliers, because these grants were not written in english which explians the scores."
   ]
  },
  {
   "cell_type": "code",
   "execution_count": 26,
   "metadata": {},
   "outputs": [],
   "source": [
    "df_grants['lowReadability'] = (df_grants[scores].abs() > 2).sum(axis=1) > 3"
   ]
  },
  {
   "cell_type": "code",
   "execution_count": 27,
   "metadata": {},
   "outputs": [],
   "source": [
    "scores_less_smog = ['flesch_kincaid', 'flesch', 'gunning_fog', 'coleman_liau', 'dale_chall', 'ari', 'linsear_write', 'spache']"
   ]
  },
  {
   "cell_type": "code",
   "execution_count": 28,
   "metadata": {},
   "outputs": [
    {
     "name": "stdout",
     "output_type": "stream",
     "text": [
      "Number of projects with low readability: 10\n"
     ]
    },
    {
     "data": {
      "text/plain": [
       "lowReadability\n",
       "False    333\n",
       "True      10\n",
       "Name: count, dtype: int64"
      ]
     },
     "execution_count": 28,
     "metadata": {},
     "output_type": "execute_result"
    }
   ],
   "source": [
    "df_grants_no_nan = df_grants.dropna(subset=scores_less_smog, axis=0)\n",
    "detail_readability = df_grants_no_nan['lowReadability'].value_counts()\n",
    "print(f'Number of projects with low readability: {detail_readability[True]}')\n",
    "detail_readability"
   ]
  },
  {
   "attachments": {},
   "cell_type": "markdown",
   "metadata": {},
   "source": [
    "## 2. Originality and AI detection"
   ]
  },
  {
   "cell_type": "code",
   "execution_count": 30,
   "metadata": {},
   "outputs": [
    {
     "name": "stdout",
     "output_type": "stream",
     "text": [
      "Total API price $16, the descriptions with less than 100 words are not included in the analysis\n",
      "Approximate number of credits $1660 needed\n"
     ]
    }
   ],
   "source": [
    "## Evaluate the cost of using OriginalityAI API\n",
    "price_per_word = 0.01/100\n",
    "n_words = len(df_grants_no_nan['metadata.application.project.description'].str.cat(sep=' ').split(' '))\n",
    "print(f'Total API price ${int(n_words * price_per_word)}, the descriptions with less than 100 words are not included in the analysis')\n",
    "print(f'Approximate number of credits ${int(n_words * price_per_word * 100)} needed')"
   ]
  },
  {
   "cell_type": "code",
   "execution_count": 31,
   "metadata": {},
   "outputs": [],
   "source": [
    "# load the API key from the .env file\n",
    "load_dotenv()\n",
    "ORIGINALITY_API_KEY = os.getenv('ORIGINALITY_API_KEY')"
   ]
  },
  {
   "cell_type": "code",
   "execution_count": 32,
   "metadata": {},
   "outputs": [],
   "source": [
    "def originality_api(title, description):\n",
    "    # API query the OriginalityAI API\n",
    "    # return a tuple with the originality and ai scores\n",
    "    url = 'https://api.originality.ai/api/v1/scan/ai'\n",
    "    headers = {\n",
    "        'Content-Type': 'application/json',\n",
    "        'X-OAI-API-KEY': ORIGINALITY_API_KEY\n",
    "    }\n",
    "    data = {\n",
    "      \"title\": title,\n",
    "      \"content\": description\n",
    "    }\n",
    "    if len(description.split(' ')) < 100:\n",
    "        originality, ai = np.nan, np.nan\n",
    "    else:\n",
    "        response = requests.post(url, headers=headers, json=data)\n",
    "        if response.status_code == 200:\n",
    "            if response.json().get('success'):\n",
    "                score = response.json().get('score')\n",
    "                originality, ai = score.get('original'), score.get('ai')\n",
    "            else:\n",
    "                print('Request response:', response.text)\n",
    "                originality, ai = np.nan, np.nan\n",
    "        else:\n",
    "            print('Request failed with status code:', response.status_code)\n",
    "            print('Reason:', response.reason)\n",
    "            print('Request response:', response.text)\n",
    "            originality, ai = np.nan, np.nan\n",
    "    return originality, ai"
   ]
  },
  {
   "attachments": {},
   "cell_type": "markdown",
   "metadata": {},
   "source": [
    "There is a rate limit to the API so we will use a sleep function to avoid being blocked and we can't use the apply method."
   ]
  },
  {
   "cell_type": "code",
   "execution_count": 33,
   "metadata": {},
   "outputs": [
    {
     "name": "stdout",
     "output_type": "stream",
     "text": [
      "Not processing small description index 0\n",
      "Processing grant index 118\n",
      "Not processing small description index 116\n",
      "Processing grant index 114\n",
      "Processing grant index 113\n",
      "Processing grant index 112\n",
      "Processing grant index 111\n",
      "Not processing small description index 110\n",
      "Not processing small description index 109\n",
      "Processing grant index 107\n",
      "Processing grant index 106\n",
      "Processing grant index 104\n",
      "Not processing small description index 120\n",
      "Processing grant index 103\n",
      "Processing grant index 101\n",
      "Not processing small description index 100\n",
      "Not processing small description index 98\n",
      "Processing grant index 97\n",
      "Processing grant index 96\n",
      "Processing grant index 94\n",
      "Processing grant index 92\n",
      "Processing grant index 91\n",
      "Processing grant index 87\n",
      "Processing grant index 81\n",
      "Processing grant index 77\n",
      "Processing grant index 102\n",
      "Not processing small description index 76\n",
      "Processing grant index 121\n",
      "Processing grant index 123\n",
      "Processing grant index 160\n",
      "Not processing small description index 159\n",
      "Processing grant index 155\n",
      "Not processing small description index 154\n",
      "Processing grant index 153\n",
      "Processing grant index 152\n",
      "Not processing small description index 151\n",
      "Processing grant index 150\n",
      "Processing grant index 149\n",
      "Not processing small description index 148\n",
      "Processing grant index 147\n",
      "Processing grant index 122\n",
      "Not processing small description index 146\n",
      "Processing grant index 144\n",
      "Processing grant index 143\n",
      "Processing grant index 141\n",
      "Processing grant index 137\n",
      "Processing grant index 136\n",
      "Processing grant index 134\n",
      "Processing grant index 132\n",
      "Not processing small description index 131\n",
      "Processing grant index 129\n",
      "Processing grant index 127\n",
      "Not processing small description index 126\n",
      "Processing grant index 145\n",
      "Not processing small description index 74\n",
      "Processing grant index 161\n",
      "Processing grant index 72\n",
      "Processing grant index 29\n",
      "Not processing small description index 28\n",
      "Processing grant index 27\n",
      "Not processing small description index 26\n",
      "Processing grant index 25\n",
      "Processing grant index 24\n",
      "Processing grant index 23\n",
      "Processing grant index 22\n",
      "Processing grant index 21\n",
      "Processing grant index 20\n",
      "Processing grant index 16\n",
      "Processing grant index 14\n",
      "Processing grant index 13\n",
      "Processing grant index 12\n",
      "Processing grant index 11\n",
      "Processing grant index 10\n",
      "Processing grant index 8\n",
      "Processing grant index 7\n",
      "Processing grant index 6\n",
      "Processing grant index 5\n",
      "Processing grant index 3\n",
      "Processing grant index 2\n",
      "Processing grant index 1\n",
      "Processing grant index 30\n",
      "Processing grant index 31\n",
      "Processing grant index 15\n",
      "Processing grant index 34\n",
      "Processing grant index 33\n",
      "Processing grant index 71\n",
      "Processing grant index 70\n",
      "Not processing small description index 69\n",
      "Processing grant index 68\n",
      "Processing grant index 67\n",
      "Not processing small description index 66\n",
      "Processing grant index 65\n",
      "Processing grant index 61\n",
      "Processing grant index 60\n",
      "Processing grant index 57\n",
      "Processing grant index 56\n",
      "Not processing small description index 55\n",
      "Not processing small description index 73\n",
      "Processing grant index 52\n",
      "Processing grant index 35\n",
      "Not processing small description index 36\n",
      "Processing grant index 37\n",
      "Processing grant index 39\n",
      "Processing grant index 41\n",
      "Processing grant index 38\n",
      "Processing grant index 44\n",
      "Processing grant index 45\n",
      "Processing grant index 46\n",
      "Processing grant index 51\n",
      "Processing grant index 42\n",
      "Processing grant index 205\n",
      "Processing grant index 212\n",
      "Processing grant index 213\n",
      "Processing grant index 209\n",
      "Processing grant index 206\n",
      "Not processing small description index 204\n",
      "Processing grant index 210\n",
      "Not processing small description index 200\n",
      "Not processing small description index 199\n",
      "Processing grant index 211\n",
      "Not processing small description index 202\n",
      "Processing grant index 427\n",
      "Processing grant index 426\n",
      "Not processing small description index 422\n",
      "Processing grant index 425\n",
      "Processing grant index 431\n",
      "Waiting 1 minute, processed 100 api calls out of 426 grants\n",
      "Processing grant index 429\n",
      "Processing grant index 430\n",
      "Not processing small description index 421\n",
      "Processing grant index 432\n",
      "Processing grant index 433\n",
      "Processing grant index 436\n",
      "Processing grant index 440\n",
      "Processing grant index 441\n",
      "Processing grant index 442\n",
      "Processing grant index 444\n",
      "Processing grant index 428\n",
      "Processing grant index 443\n",
      "Processing grant index 389\n",
      "Processing grant index 419\n",
      "Processing grant index 384\n",
      "Processing grant index 385\n",
      "Processing grant index 447\n",
      "Processing grant index 391\n",
      "Processing grant index 392\n",
      "Processing grant index 393\n",
      "Processing grant index 394\n",
      "Processing grant index 395\n",
      "Processing grant index 396\n",
      "Not processing small description index 397\n",
      "Processing grant index 398\n",
      "Processing grant index 399\n",
      "Processing grant index 420\n",
      "Processing grant index 400\n",
      "Not processing small description index 402\n",
      "Processing grant index 403\n",
      "Processing grant index 404\n",
      "Processing grant index 405\n",
      "Processing grant index 406\n",
      "Processing grant index 407\n",
      "Processing grant index 410\n",
      "Processing grant index 411\n",
      "Processing grant index 413\n",
      "Processing grant index 414\n",
      "Processing grant index 416\n",
      "Processing grant index 417\n",
      "Processing grant index 401\n",
      "Processing grant index 448\n",
      "Processing grant index 471\n",
      "Processing grant index 451\n",
      "Processing grant index 380\n",
      "Processing grant index 450\n",
      "Processing grant index 477\n",
      "Processing grant index 476\n",
      "Processing grant index 475\n",
      "Processing grant index 474\n",
      "Processing grant index 473\n",
      "Processing grant index 470\n",
      "Processing grant index 469\n",
      "Processing grant index 468\n",
      "Processing grant index 467\n",
      "Not processing small description index 466\n",
      "Processing grant index 478\n",
      "Processing grant index 464\n",
      "Processing grant index 452\n",
      "Processing grant index 465\n",
      "Processing grant index 453\n",
      "Processing grant index 454\n",
      "Processing grant index 455\n",
      "Processing grant index 456\n",
      "Processing grant index 379\n",
      "Processing grant index 459\n",
      "Processing grant index 460\n",
      "Processing grant index 461\n",
      "Processing grant index 463\n",
      "Processing grant index 462\n",
      "Processing grant index 458\n",
      "Not processing small description index 535\n",
      "Processing grant index 534\n",
      "Processing grant index 533\n",
      "Processing grant index 536\n",
      "Processing grant index 532\n",
      "Not processing small description index 531\n",
      "Processing grant index 530\n",
      "Not processing small description index 529\n",
      "Processing grant index 528\n",
      "Not processing small description index 525\n",
      "Processing grant index 526\n",
      "Processing grant index 524\n",
      "Not processing small description index 523\n",
      "Processing grant index 522\n",
      "Processing grant index 520\n",
      "Not processing small description index 519\n",
      "Processing grant index 518\n",
      "Processing grant index 517\n",
      "Processing grant index 516\n",
      "Processing grant index 515\n",
      "Processing grant index 527\n",
      "Processing grant index 521\n",
      "Processing grant index 537\n",
      "Processing grant index 481\n",
      "Processing grant index 479\n",
      "Processing grant index 480\n",
      "Processing grant index 482\n",
      "Processing grant index 483\n",
      "Processing grant index 484\n",
      "Processing grant index 485\n",
      "Not processing small description index 486\n",
      "Processing grant index 487\n",
      "Processing grant index 489\n",
      "Processing grant index 488\n",
      "Processing grant index 494\n",
      "Processing grant index 492\n",
      "Processing grant index 491\n",
      "Not processing small description index 490\n",
      "Processing grant index 507\n",
      "Processing grant index 512\n",
      "Processing grant index 510\n",
      "Waiting 1 minute, processed 200 api calls out of 426 grants\n",
      "Processing grant index 508\n",
      "Processing grant index 506\n",
      "Processing grant index 501\n",
      "Processing grant index 502\n",
      "Processing grant index 503\n",
      "Processing grant index 499\n",
      "Processing grant index 498\n",
      "Not processing small description index 500\n",
      "Processing grant index 495\n",
      "Not processing small description index 496\n",
      "Processing grant index 497\n",
      "Not processing small description index 250\n",
      "Processing grant index 251\n",
      "Processing grant index 252\n",
      "Processing grant index 253\n",
      "Processing grant index 254\n",
      "Processing grant index 255\n",
      "Processing grant index 256\n",
      "Processing grant index 257\n",
      "Not processing small description index 291\n",
      "Processing grant index 259\n",
      "Not processing small description index 260\n",
      "Processing grant index 261\n",
      "Processing grant index 292\n",
      "Processing grant index 263\n",
      "Processing grant index 264\n",
      "Processing grant index 265\n",
      "Processing grant index 266\n",
      "Not processing small description index 267\n",
      "Not processing small description index 268\n",
      "Processing grant index 269\n",
      "Not processing small description index 271\n",
      "Processing grant index 272\n",
      "Not processing small description index 273\n",
      "Processing grant index 274\n",
      "Processing grant index 249\n",
      "Processing grant index 262\n",
      "Not processing small description index 248\n",
      "Not processing small description index 228\n",
      "Not processing small description index 246\n",
      "Processing grant index 214\n",
      "Processing grant index 216\n",
      "Processing grant index 217\n",
      "Processing grant index 218\n",
      "Not processing small description index 219\n",
      "Processing grant index 220\n",
      "Processing grant index 222\n",
      "Processing grant index 223\n",
      "Processing grant index 224\n",
      "Processing grant index 225\n",
      "Processing grant index 226\n",
      "Not processing small description index 227\n",
      "Processing grant index 275\n",
      "Not processing small description index 229\n",
      "Processing grant index 230\n",
      "Not processing small description index 234\n",
      "Processing grant index 235\n",
      "Processing grant index 236\n",
      "Not processing small description index 238\n",
      "Processing grant index 239\n",
      "Processing grant index 240\n",
      "Processing grant index 241\n",
      "Processing grant index 242\n",
      "Processing grant index 243\n",
      "Not processing small description index 245\n",
      "Not processing small description index 247\n",
      "Processing grant index 277\n",
      "Processing grant index 258\n",
      "Processing grant index 280\n",
      "Processing grant index 321\n",
      "Processing grant index 322\n",
      "Processing grant index 324\n",
      "Processing grant index 325\n",
      "Processing grant index 326\n",
      "Processing grant index 327\n",
      "Processing grant index 328\n",
      "Processing grant index 279\n",
      "Not processing small description index 329\n",
      "Processing grant index 330\n",
      "Processing grant index 331\n",
      "Processing grant index 332\n",
      "Processing grant index 333\n",
      "Processing grant index 334\n",
      "Processing grant index 335\n",
      "Not processing small description index 336\n",
      "Processing grant index 337\n",
      "Not processing small description index 319\n",
      "Processing grant index 316\n",
      "Processing grant index 315\n",
      "Processing grant index 314\n",
      "Processing grant index 293\n",
      "Processing grant index 294\n",
      "Processing grant index 295\n",
      "Processing grant index 297\n",
      "Not processing small description index 298\n",
      "Processing grant index 299\n",
      "Processing grant index 300\n",
      "Processing grant index 301\n",
      "Processing grant index 338\n",
      "Processing grant index 302\n",
      "Processing grant index 305\n",
      "Not processing small description index 306\n",
      "Processing grant index 307\n",
      "Processing grant index 309\n",
      "Processing grant index 310\n",
      "Processing grant index 311\n",
      "Processing grant index 312\n",
      "Processing grant index 313\n",
      "Processing grant index 304\n",
      "Processing grant index 339\n",
      "Processing grant index 282\n",
      "Processing grant index 341\n",
      "Processing grant index 361\n",
      "Processing grant index 362\n",
      "Processing grant index 363\n",
      "Processing grant index 364\n",
      "Processing grant index 365\n",
      "Processing grant index 367\n",
      "Processing grant index 368\n",
      "Processing grant index 369\n",
      "Processing grant index 370\n",
      "Processing grant index 340\n",
      "Processing grant index 372\n",
      "Processing grant index 373\n",
      "Waiting 1 minute, processed 300 api calls out of 426 grants\n",
      "Processing grant index 374\n",
      "Processing grant index 375\n",
      "Processing grant index 377\n",
      "Processing grant index 378\n",
      "Not processing small description index 289\n",
      "Not processing small description index 287\n",
      "Processing grant index 286\n",
      "Not processing small description index 285\n",
      "Processing grant index 284\n",
      "Processing grant index 283\n",
      "Processing grant index 281\n",
      "Processing grant index 360\n",
      "Processing grant index 359\n",
      "Processing grant index 371\n",
      "Processing grant index 357\n",
      "Processing grant index 358\n",
      "Processing grant index 343\n",
      "Not processing small description index 344\n",
      "Processing grant index 345\n",
      "Processing grant index 346\n",
      "Processing grant index 347\n",
      "Processing grant index 348\n",
      "Processing grant index 349\n",
      "Not processing small description index 350\n",
      "Processing grant index 351\n",
      "Processing grant index 342\n",
      "Processing grant index 352\n",
      "Processing grant index 356\n",
      "Processing grant index 355\n",
      "Not processing small description index 514\n",
      "Processing grant index 513\n",
      "Processing grant index 196\n",
      "Processing grant index 174\n",
      "Processing grant index 173\n",
      "Not processing small description index 172\n",
      "Processing grant index 171\n",
      "Processing grant index 170\n",
      "Not processing small description index 169\n",
      "Not processing small description index 168\n",
      "Processing grant index 167\n",
      "Not processing small description index 166\n",
      "Not processing small description index 165\n",
      "Processing grant index 164\n",
      "Not processing small description index 163\n",
      "Processing grant index 162\n",
      "Processing grant index 175\n",
      "Processing grant index 176\n",
      "Processing grant index 179\n",
      "Not processing small description index 178\n",
      "Not processing small description index 195\n",
      "Processing grant index 181\n",
      "Processing grant index 183\n",
      "Processing grant index 185\n",
      "Processing grant index 186\n",
      "Processing grant index 187\n",
      "Processing grant index 188\n",
      "Not processing small description index 189\n",
      "Not processing small description index 190\n",
      "Processing grant index 191\n",
      "Not processing small description index 193\n",
      "Not processing small description index 198\n",
      "Not processing small description index 197\n",
      "Processing grant index 177\n",
      "Processing grant index 192\n"
     ]
    }
   ],
   "source": [
    "df_grants['originality'] = np.nan\n",
    "df_grants['ai'] = np.nan\n",
    "cntr = 1\n",
    "for index_grant in df_grants.index:\n",
    "    if df_grants.loc[index_grant, 'smallDescription'] == True:\n",
    "        print(f'Not processing small description index {index_grant}')\n",
    "    else:\n",
    "        cntr += 1\n",
    "        if (cntr % 100 == 0):\n",
    "            print(f'Waiting 1 minute, processed {cntr} api calls out of {len(df_grants)} grants')\n",
    "            time.sleep(60) # wait 1 minute every 100 requests\n",
    "        print(f'Processing grant index {index_grant}')\n",
    "        title = df_grants.loc[index_grant, 'metadata.application.project.title']\n",
    "        description = df_grants.loc[index_grant, 'metadata.application.project.description']\n",
    "\n",
    "        df_grants.loc[index_grant, 'originality'], df_grants.loc[index_grant, 'ai'] = originality_api(title, description)"
   ]
  },
  {
   "cell_type": "code",
   "execution_count": 34,
   "metadata": {},
   "outputs": [],
   "source": [
    "df_grants.to_csv('../grants_with_originality.csv', index=False)"
   ]
  },
  {
   "cell_type": "code",
   "execution_count": 38,
   "metadata": {},
   "outputs": [
    {
     "data": {
      "text/html": [
       "<div>\n",
       "<style scoped>\n",
       "    .dataframe tbody tr th:only-of-type {\n",
       "        vertical-align: middle;\n",
       "    }\n",
       "\n",
       "    .dataframe tbody tr th {\n",
       "        vertical-align: top;\n",
       "    }\n",
       "\n",
       "    .dataframe thead th {\n",
       "        text-align: right;\n",
       "    }\n",
       "</style>\n",
       "<table border=\"1\" class=\"dataframe\">\n",
       "  <thead>\n",
       "    <tr style=\"text-align: right;\">\n",
       "      <th></th>\n",
       "      <th>originality</th>\n",
       "      <th>ai</th>\n",
       "    </tr>\n",
       "  </thead>\n",
       "  <tbody>\n",
       "    <tr>\n",
       "      <th>count</th>\n",
       "      <td>339.000000</td>\n",
       "      <td>339.000000</td>\n",
       "    </tr>\n",
       "    <tr>\n",
       "      <th>mean</th>\n",
       "      <td>0.698774</td>\n",
       "      <td>0.301226</td>\n",
       "    </tr>\n",
       "    <tr>\n",
       "      <th>std</th>\n",
       "      <td>0.389746</td>\n",
       "      <td>0.389746</td>\n",
       "    </tr>\n",
       "    <tr>\n",
       "      <th>min</th>\n",
       "      <td>0.000000</td>\n",
       "      <td>0.000100</td>\n",
       "    </tr>\n",
       "    <tr>\n",
       "      <th>25%</th>\n",
       "      <td>0.475875</td>\n",
       "      <td>0.005250</td>\n",
       "    </tr>\n",
       "    <tr>\n",
       "      <th>50%</th>\n",
       "      <td>0.950300</td>\n",
       "      <td>0.049700</td>\n",
       "    </tr>\n",
       "    <tr>\n",
       "      <th>75%</th>\n",
       "      <td>0.994750</td>\n",
       "      <td>0.524125</td>\n",
       "    </tr>\n",
       "    <tr>\n",
       "      <th>max</th>\n",
       "      <td>0.999900</td>\n",
       "      <td>1.000000</td>\n",
       "    </tr>\n",
       "  </tbody>\n",
       "</table>\n",
       "</div>"
      ],
      "text/plain": [
       "       originality          ai\n",
       "count   339.000000  339.000000\n",
       "mean      0.698774    0.301226\n",
       "std       0.389746    0.389746\n",
       "min       0.000000    0.000100\n",
       "25%       0.475875    0.005250\n",
       "50%       0.950300    0.049700\n",
       "75%       0.994750    0.524125\n",
       "max       0.999900    1.000000"
      ]
     },
     "execution_count": 38,
     "metadata": {},
     "output_type": "execute_result"
    }
   ],
   "source": [
    "df_grants[['originality', 'ai']].describe()"
   ]
  },
  {
   "cell_type": "code",
   "execution_count": 39,
   "metadata": {},
   "outputs": [
    {
     "data": {
      "image/png": "[encoded data removed]",
      "text/plain": [
       "<Figure size 640x480 with 1 Axes>"
      ]
     },
     "metadata": {},
     "output_type": "display_data"
    },
    {
     "data": {
      "image/png": "[encoded data removed]",
      "text/plain": [
       "<Figure size 640x480 with 1 Axes>"
      ]
     },
     "metadata": {},
     "output_type": "display_data"
    }
   ],
   "source": [
    "for metric in ['originality', 'ai']:\n",
    "    plt.figure()\n",
    "    sns.histplot(df_grants[metric].dropna())"
   ]
  },
  {
   "cell_type": "code",
   "execution_count": 69,
   "metadata": {},
   "outputs": [
    {
     "name": "stdout",
     "output_type": "stream",
     "text": [
      "Number of grants with low originality: 19\n",
      "Number of grants with high ai: 19\n",
      "Distinct originalit ai flagged projects: 0\n",
      "Number of flagged projects by originalityAI and lowReadability: 0\n"
     ]
    }
   ],
   "source": [
    "low_originality = df_grants['originality'] == 0\n",
    "print(f'Number of grants with low originality: {low_originality.sum()}')\n",
    "high_ai = df_grants['ai'] == 1\n",
    "print(f'Number of grants with high ai: {high_ai.sum()}')\n",
    "print(f'Distinct originalit ai flagged projects: {np.logical_and(low_originality, np.logical_not(high_ai)).sum()}')\n",
    "print(f'Number of flagged projects by originalityAI and lowReadability: {np.logical_and(df_grants.lowReadability, np.logical_and(low_originality, high_ai)).sum()}')"
   ]
  },
  {
   "attachments": {},
   "cell_type": "markdown",
   "metadata": {},
   "source": [
    "Low originality and high ai have exactly the same values when using oposite thresholds\n",
    "\n",
    "Hopefully the ensemble is disjoint from the low readability ensemble"
   ]
  },
  {
   "cell_type": "code",
   "execution_count": 71,
   "metadata": {},
   "outputs": [],
   "source": [
    "df_grants['lowOriginality'] = low_originality\n",
    "df_grants['highAi'] = high_ai\n",
    "df_grants['flagged'] = np.logical_or(np.logical_or(df_grants.lowReadability, df_grants.smallDescription), np.logical_or(low_originality, high_ai))"
   ]
  },
  {
   "cell_type": "code",
   "execution_count": 74,
   "metadata": {},
   "outputs": [
    {
     "data": {
      "text/plain": [
       "flagged\n",
       "False    314\n",
       "True     112\n",
       "Name: count, dtype: int64"
      ]
     },
     "execution_count": 74,
     "metadata": {},
     "output_type": "execute_result"
    }
   ],
   "source": [
    "df_grants.flagged.value_counts()"
   ]
  },
  {
   "cell_type": "code",
   "execution_count": 78,
   "metadata": {},
   "outputs": [
    {
     "name": "stdout",
     "output_type": "stream",
     "text": [
      "Number of flagged projects: 112 out of 426, ratio 26%\n"
     ]
    }
   ],
   "source": [
    "print(f'Number of flagged projects: {df_grants.flagged.sum()} out of {len(df_grants)}, ratio {int(100*df_grants.flagged.sum()/len(df_grants))}%')"
   ]
  },
  {
   "cell_type": "code",
   "execution_count": 79,
   "metadata": {},
   "outputs": [],
   "source": [
    "# export raw data\n",
    "df_grants.to_csv('../grants_and_scores.csv', index=False)"
   ]
  },
  {
   "cell_type": "code",
   "execution_count": 84,
   "metadata": {},
   "outputs": [],
   "source": [
    "small_colums = ['Round name', 'numRounds', 'metadata.application.project.title', 'status', 'metadata.application.project.website', 'metadata.application.project.projectTwitter', 'metadata.application.project.userGithub','metadata.application.project.projectGithub', 'metadata.application.recipient', 'originality', 'ai', 'smallDescription', 'lowReadability', 'lowOriginality', 'highAi', 'flagged']\n",
    "rename_columns = ['Round name', 'numRounds', 'title', 'status', 'website', 'projectTwitter', 'userGithub', 'projectGithub', 'recipient', 'originality', 'ai', 'smallDescription', 'lowReadability', 'lowOriginality', 'highAi', 'flagged']"
   ]
  },
  {
   "cell_type": "code",
   "execution_count": 86,
   "metadata": {},
   "outputs": [],
   "source": [
    "# export flagged projects with a limited set of columns\n",
    "df_grants[df_grants.flagged][small_colums].set_axis(rename_columns, axis=1).to_csv('../flagged_grants.csv', index=False)"
   ]
  },
  {
   "attachments": {},
   "cell_type": "markdown",
   "metadata": {},
   "source": [
    "The analysis of the flagged projects is done manually in a google doc"
   ]
  }
 ],
 "metadata": {
  "kernelspec": {
   "display_name": ".venv",
   "language": "python",
   "name": "python3"
  },
  "language_info": {
   "codemirror_mode": {
    "name": "ipython",
    "version": 3
   },
   "file_extension": ".py",
   "mimetype": "text/x-python",
   "name": "python",
   "nbconvert_exporter": "python",
   "pygments_lexer": "ipython3",
   "version": "3.10.9"
  },
  "orig_nbformat": 4
 },
 "nbformat": 4,
 "nbformat_minor": 2
}
